{
 "cells": [
  {
   "cell_type": "markdown",
   "metadata": {},
   "source": [
    "# Nearest Neighbors Lab"
   ]
  },
  {
   "cell_type": "markdown",
   "metadata": {},
   "source": [
    "### Introduction\n",
    "\n",
    "In this lab, you apply nearest neighbors technique to help a taxi company predict the length of their rides.  Imagine that we are hired to consult for LiftOff, a limo and taxi service that is just opening up in NYC.  Liftoff wants it's taxi drivers to target longer rides, as the longer the ride the more money it makes.  LiftOff has the following theory:\n",
    "\n",
    "* the pickup location of a taxi ride can help predict the length of the ride.  \n",
    "\n",
    "\n",
    "\n",
    "LiftOff asks us to do some analysis to write a function that will allow it to **predict the length of a taxi ride for any given location **.\n",
    "\n",
    "Our technique will be the following:\n",
    "  * **Collect** Obtain the data containing all of the taxi information, and only select the attributes of taxi trips that we need \n",
    "  * ** Explore ** Examine the attributes of our data, and plot some of our data on a map\n",
    "  * ** Train ** Write our nearest neighbors formula, and change the number of nearby trips to predict the length of a new trip\n",
    "  * ** Predict ** Use our function to predict trip lengths of new locations"
   ]
  },
  {
   "cell_type": "markdown",
   "metadata": {},
   "source": [
    "### Collect and Explore the data"
   ]
  },
  {
   "cell_type": "markdown",
   "metadata": {},
   "source": [
    "#### Collect the Data"
   ]
  },
  {
   "cell_type": "markdown",
   "metadata": {},
   "source": [
    "Luckily for us, [NYC Open Data](https://opendata.cityofnewyork.us/) collects information about NYC taxi trips and provides this data on [its website](https://data.cityofnewyork.us/Transportation/2014-Yellow-Taxi-Trip-Data/gn7m-em8n)."
   ]
  },
  {
   "cell_type": "markdown",
   "metadata": {},
   "source": [
    "![](./nyc-taxi.png)"
   ]
  },
  {
   "cell_type": "markdown",
   "metadata": {},
   "source": [
    "For your reading pleasure, the data has already been downloaded into the [trips.json](https://github.com/learn-co-curriculum/nearest-neighbors-lab/blob/master/trips.json) file in this lab which you can find here.  We'll use Python's `json` library to take the data from the `trips.json` file and store it as a variable in our notebook."
   ]
  },
  {
   "cell_type": "code",
   "execution_count": 1,
   "metadata": {},
   "outputs": [],
   "source": [
    "import json\n",
    "# First, read the file\n",
    "trips_file = open('trips.json')\n",
    "# Then, convert contents to list of dictionaries \n",
    "trips = json.load(trips_file)"
   ]
  },
  {
   "cell_type": "markdown",
   "metadata": {},
   "source": [
    "> Press shift + enter"
   ]
  },
  {
   "cell_type": "markdown",
   "metadata": {},
   "source": [
    "#### Explore the data"
   ]
  },
  {
   "cell_type": "markdown",
   "metadata": {},
   "source": [
    "The next step is to explore the data.  First, let's see how many trips we have."
   ]
  },
  {
   "cell_type": "code",
   "execution_count": 2,
   "metadata": {},
   "outputs": [
    {
     "data": {
      "text/plain": [
       "1000"
      ]
     },
     "execution_count": 2,
     "metadata": {},
     "output_type": "execute_result"
    }
   ],
   "source": [
    "len(trips)"
   ]
  },
  {
   "cell_type": "markdown",
   "metadata": {},
   "source": [
    "Not bad at all.  Now let's see what each individual trip looks like.  Each trip is a dictionary, so we can see the attributes of each trip with the `keys` function."
   ]
  },
  {
   "cell_type": "code",
   "execution_count": 3,
   "metadata": {
    "scrolled": true
   },
   "outputs": [
    {
     "data": {
      "text/plain": [
       "dict_keys(['dropoff_datetime', 'dropoff_latitude', 'dropoff_longitude', 'fare_amount', 'imp_surcharge', 'mta_tax', 'passenger_count', 'payment_type', 'pickup_datetime', 'pickup_latitude', 'pickup_longitude', 'rate_code', 'tip_amount', 'tolls_amount', 'total_amount', 'trip_distance', 'vendor_id'])"
      ]
     },
     "execution_count": 3,
     "metadata": {},
     "output_type": "execute_result"
    }
   ],
   "source": [
    "trips[0].keys()"
   ]
  },
  {
   "cell_type": "markdown",
   "metadata": {},
   "source": [
    "#### Limit our data"
   ]
  },
  {
   "cell_type": "markdown",
   "metadata": {},
   "source": [
    "Ok, now that we have explored some of our data, let's begin to think through what data is relevant for our task."
   ]
  },
  {
   "cell_type": "markdown",
   "metadata": {
    "collapsed": true
   },
   "source": [
    "Remember that our task is to **use the trip location to predict the length of a trip**.  So let's select the `pickup_latitude`, `pickup_longitude`, and `trip_distance` from each trip.  That will give us the trip location and related `trip_distance` for each trip.  Then based on these **actual** trip distances we can use nearest neighbors to predict an **expected** trip distance for a trip, provided an **actual** location."
   ]
  },
  {
   "cell_type": "markdown",
   "metadata": {},
   "source": [
    "** Add in about trip distance ** "
   ]
  },
  {
   "cell_type": "markdown",
   "metadata": {},
   "source": [
    "Write a function called `parse_trips(trips)` that returns a list of the trips with only the following attributes: \n",
    "* `trip_distance`\n",
    "* `pickup_latitude`\n",
    "* `pickup_longitude`"
   ]
  },
  {
   "cell_type": "code",
   "execution_count": 4,
   "metadata": {},
   "outputs": [],
   "source": [
    "def parse_trips(trips):\n",
    "    parsed = []\n",
    "    for trip in trips:\n",
    "        parsed.append({'trip_distance':trip['trip_distance'],'pickup_latitude':trip['pickup_latitude'],'pickup_longitude':trip['pickup_longitude']})\n",
    "    return parsed"
   ]
  },
  {
   "cell_type": "code",
   "execution_count": 5,
   "metadata": {},
   "outputs": [
    {
     "data": {
      "text/plain": [
       "{'trip_distance': '18.379999999999999',\n",
       " 'pickup_latitude': '40.64499',\n",
       " 'pickup_longitude': '-73.781149999999997'}"
      ]
     },
     "execution_count": 5,
     "metadata": {},
     "output_type": "execute_result"
    }
   ],
   "source": [
    "parsed_trips = parse_trips(trips)\n",
    "parsed_trips and parsed_trips[0]\n",
    "\n",
    "# {'pickup_latitude': '40.64499',\n",
    "#  'pickup_longitude': '-73.78115',\n",
    "#  'trip_distance': '18.38'}"
   ]
  },
  {
   "cell_type": "markdown",
   "metadata": {},
   "source": [
    "Now, there's just one change to make.  If you look at one of the trips, all of the values are strings.  Let's change them to be floats."
   ]
  },
  {
   "cell_type": "code",
   "execution_count": 6,
   "metadata": {},
   "outputs": [],
   "source": [
    "def float_values(trips):    \n",
    "    parsed = []\n",
    "    for trip in trips:\n",
    "        parsed.append({'trip_distance':float(trip['trip_distance']),'pickup_latitude':float(trip['pickup_latitude']),'pickup_longitude':float(trip['pickup_longitude'])})\n",
    "    return parsed"
   ]
  },
  {
   "cell_type": "code",
   "execution_count": 7,
   "metadata": {},
   "outputs": [],
   "source": [
    "cleaned_trips = float_values(parsed_trips)"
   ]
  },
  {
   "cell_type": "code",
   "execution_count": 10,
   "metadata": {},
   "outputs": [
    {
     "data": {
      "text/plain": [
       "{'trip_distance': 18.38,\n",
       " 'pickup_latitude': 40.64499,\n",
       " 'pickup_longitude': -73.78115}"
      ]
     },
     "execution_count": 10,
     "metadata": {},
     "output_type": "execute_result"
    }
   ],
   "source": [
    "cleaned_trips[0]\n",
    "\n",
    "# {'pickup_latitude': 40.64499,\n",
    "#  'pickup_longitude': -73.78115,\n",
    "#  'trip_distance': 18.38}"
   ]
  },
  {
   "cell_type": "markdown",
   "metadata": {},
   "source": [
    "### Exploring the Data"
   ]
  },
  {
   "cell_type": "markdown",
   "metadata": {},
   "source": [
    "Now that we have paired down our data, let's get a sense of our trip data.  We can use the `folium` Python library to plot a map of Manhattan, and our data.  First we must import `folium`, and then use the `Map` function to pass through a `location`, and `zoom_start`.  If a map isn't showing up below, copy and paste the command `pip install -r requirements.txt` into your terminal to install `folium` then try again."
   ]
  },
  {
   "cell_type": "code",
   "execution_count": 9,
   "metadata": {},
   "outputs": [
    {
     "name": "stderr",
     "output_type": "stream",
     "text": [
      "/opt/conda/lib/python3.6/importlib/_bootstrap.py:219: RuntimeWarning: numpy.dtype size changed, may indicate binary incompatibility. Expected 96, got 88\n",
      "  return f(*args, **kwds)\n",
      "/opt/conda/lib/python3.6/importlib/_bootstrap.py:219: RuntimeWarning: numpy.dtype size changed, may indicate binary incompatibility. Expected 96, got 88\n",
      "  return f(*args, **kwds)\n"
     ]
    }
   ],
   "source": [
    "import folium\n",
    "manhattan_map = folium.Map(location=[40.7589, -73.9851], zoom_start=11)"
   ]
  },
  {
   "cell_type": "code",
   "execution_count": 11,
   "metadata": {
    "scrolled": true
   },
   "outputs": [
    {
     "data": {
      "text/html": [
       "<div style=\"width:100%;\"><div style=\"position:relative;width:100%;height:0;padding-bottom:60%;\"><iframe src=\"data:text/html;charset=utf-8;base64,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\" style=\"position:absolute;width:100%;height:100%;left:0;top:0;border:none !important;\" allowfullscreen webkitallowfullscreen mozallowfullscreen></iframe></div></div>"
      ],
      "text/plain": [
       "<folium.folium.Map at 0x7f9c583380f0>"
      ]
     },
     "execution_count": 11,
     "metadata": {},
     "output_type": "execute_result"
    }
   ],
   "source": [
    "manhattan_map"
   ]
  },
  {
   "cell_type": "markdown",
   "metadata": {},
   "source": [
    "Ok, now let's see how we could add a dot to mark a specific location.  We'll start with Times Square."
   ]
  },
  {
   "cell_type": "code",
   "execution_count": 13,
   "metadata": {},
   "outputs": [
    {
     "data": {
      "text/plain": [
       "<folium.vector_layers.CircleMarker at 0x7f9c2892a278>"
      ]
     },
     "execution_count": 13,
     "metadata": {},
     "output_type": "execute_result"
    }
   ],
   "source": [
    "marker = folium.CircleMarker(location = [40.7589, -73.9851], radius=10)\n",
    "marker.add_to(manhattan_map)"
   ]
  },
  {
   "cell_type": "markdown",
   "metadata": {},
   "source": [
    "Above, we first create a marker.  Then we add that circle marker to the `manhattan_map` we created earlier. "
   ]
  },
  {
   "cell_type": "code",
   "execution_count": 14,
   "metadata": {
    "scrolled": false
   },
   "outputs": [
    {
     "data": {
      "text/html": [
       "<div style=\"width:100%;\"><div style=\"position:relative;width:100%;height:0;padding-bottom:60%;\"><iframe src=\"data:text/html;charset=utf-8;base64,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\" style=\"position:absolute;width:100%;height:100%;left:0;top:0;border:none !important;\" allowfullscreen webkitallowfullscreen mozallowfullscreen></iframe></div></div>"
      ],
      "text/plain": [
       "<folium.folium.Map at 0x7f9c583380f0>"
      ]
     },
     "execution_count": 14,
     "metadata": {},
     "output_type": "execute_result"
    }
   ],
   "source": [
    "manhattan_map"
   ]
  },
  {
   "cell_type": "markdown",
   "metadata": {},
   "source": [
    "Do you see that blue dot near Time's Square?  That is our marker.  \n",
    "\n",
    "So now that we can plot one marker on a map, we should have a sense of how we can plot many markers on a map to display our taxi ride data.  We simply plot a map, and then we add a marker for each location of a taxi trip.\n",
    "\n",
    "Now let's write some functions to allow us to plot maps and add markers a little more easily.  "
   ]
  },
  {
   "cell_type": "markdown",
   "metadata": {},
   "source": [
    "#### Writing some map plotting functions"
   ]
  },
  {
   "cell_type": "markdown",
   "metadata": {},
   "source": [
    "As a first step towards this, note that the functions to create both a marker and map each take in a location as two element list, representing the latitude and longitude values.  Take another look:\n",
    "\n",
    "```python\n",
    "marker = folium.CircleMarker(location = [40.7589, -73.9851])\n",
    "manhattan_map = folium.Map(location=[40.7589, -73.9851])\n",
    "```\n",
    "\n",
    "So let's write a function called to create this two element list from a trip.  Write a function called `location` that  takes in a trip as an argument and returns a list where the first element is the latitude and the second is the longitude.  Remember that a location looks like the following:"
   ]
  },
  {
   "cell_type": "code",
   "execution_count": 18,
   "metadata": {},
   "outputs": [
    {
     "data": {
      "text/plain": [
       "{'pickup_latitude': 40.64499,\n",
       " 'pickup_longitude': -73.78115,\n",
       " 'trip_distance': 18.38}"
      ]
     },
     "execution_count": 18,
     "metadata": {},
     "output_type": "execute_result"
    }
   ],
   "source": [
    "first_trip = {'pickup_latitude': 40.64499, 'pickup_longitude': -73.78115,  'trip_distance': 18.38}\n",
    "first_trip"
   ]
  },
  {
   "cell_type": "code",
   "execution_count": 16,
   "metadata": {},
   "outputs": [],
   "source": [
    "def location(trip):\n",
    "    return [trip['pickup_latitude'], trip['pickup_longitude'] ]"
   ]
  },
  {
   "cell_type": "code",
   "execution_count": 19,
   "metadata": {},
   "outputs": [
    {
     "data": {
      "text/plain": [
       "[40.64499, -73.78115]"
      ]
     },
     "execution_count": 19,
     "metadata": {},
     "output_type": "execute_result"
    }
   ],
   "source": [
    "first_location = location(first_trip) # [40.64499, -73.78115]\n",
    "first_location # [40.64499, -73.78115]"
   ]
  },
  {
   "cell_type": "markdown",
   "metadata": {},
   "source": [
    "Ok, now that we can turn a trip into a location, let's turn a location into a marker.  Write a function called `to_marker` that takes in a location (in the form of a list) as an argument, and returns a folium `circleMarker` for that location.  The radius of the marker should always equal 6."
   ]
  },
  {
   "cell_type": "code",
   "execution_count": 20,
   "metadata": {},
   "outputs": [],
   "source": [
    "def to_marker(location):\n",
    "    return folium.CircleMarker(location, radius=6)"
   ]
  },
  {
   "cell_type": "code",
   "execution_count": 21,
   "metadata": {},
   "outputs": [
    {
     "data": {
      "text/plain": [
       "6"
      ]
     },
     "execution_count": 21,
     "metadata": {},
     "output_type": "execute_result"
    }
   ],
   "source": [
    "import json\n",
    "times_square_marker = to_marker([40.7589, -73.9851])\n",
    "\n",
    "times_square_marker and times_square_marker.location # [40.7589, -73.9851]\n",
    "times_square_marker and json.loads(times_square_marker.options)['radius'] # 6"
   ]
  },
  {
   "cell_type": "markdown",
   "metadata": {},
   "source": [
    "Ok, now that we know how to produce a single marker, let's write a function to produce lots.  We can write a function called `markers_from_trips` that takes in a list of trips, and returns a marker object for each trip.  "
   ]
  },
  {
   "cell_type": "code",
   "execution_count": 24,
   "metadata": {},
   "outputs": [],
   "source": [
    "def markers_from_trips(trips):\n",
    "    markers = []\n",
    "    alltrips = float_values(trips)\n",
    "    for trip in alltrips:\n",
    "        markers.append(to_marker(location(trip)))\n",
    "    return markers"
   ]
  },
  {
   "cell_type": "code",
   "execution_count": 25,
   "metadata": {},
   "outputs": [],
   "source": [
    "trip_markers = markers_from_trips(cleaned_trips)"
   ]
  },
  {
   "cell_type": "code",
   "execution_count": 33,
   "metadata": {},
   "outputs": [
    {
     "data": {
      "text/plain": [
       "[<folium.vector_layers.CircleMarker at 0x7f9c297c0c50>,\n",
       " <folium.vector_layers.CircleMarker at 0x7f9c297c0d30>,\n",
       " <folium.vector_layers.CircleMarker at 0x7f9c297c03c8>,\n",
       " <folium.vector_layers.CircleMarker at 0x7f9c297c0898>,\n",
       " <folium.vector_layers.CircleMarker at 0x7f9c297c0e48>,\n",
       " <folium.vector_layers.CircleMarker at 0x7f9c297c0f60>,\n",
       " <folium.vector_layers.CircleMarker at 0x7f9c28782748>,\n",
       " <folium.vector_layers.CircleMarker at 0x7f9c287829b0>,\n",
       " <folium.vector_layers.CircleMarker at 0x7f9c297c0eb8>,\n",
       " <folium.vector_layers.CircleMarker at 0x7f9c288ad128>,\n",
       " <folium.vector_layers.CircleMarker at 0x7f9c288ad320>,\n",
       " <folium.vector_layers.CircleMarker at 0x7f9c288ad208>,\n",
       " <folium.vector_layers.CircleMarker at 0x7f9c288ad438>,\n",
       " <folium.vector_layers.CircleMarker at 0x7f9c288ad470>,\n",
       " <folium.vector_layers.CircleMarker at 0x7f9c288ad518>,\n",
       " <folium.vector_layers.CircleMarker at 0x7f9c288ad5c0>,\n",
       " <folium.vector_layers.CircleMarker at 0x7f9c288ad668>,\n",
       " <folium.vector_layers.CircleMarker at 0x7f9c288ad2e8>,\n",
       " <folium.vector_layers.CircleMarker at 0x7f9c288ad908>,\n",
       " <folium.vector_layers.CircleMarker at 0x7f9c288ad9b0>,\n",
       " <folium.vector_layers.CircleMarker at 0x7f9c288ad898>,\n",
       " <folium.vector_layers.CircleMarker at 0x7f9c288ad9e8>,\n",
       " <folium.vector_layers.CircleMarker at 0x7f9c288adbe0>,\n",
       " <folium.vector_layers.CircleMarker at 0x7f9c288adcf8>,\n",
       " <folium.vector_layers.CircleMarker at 0x7f9c28782c50>,\n",
       " <folium.vector_layers.CircleMarker at 0x7f9c297c0e80>,\n",
       " <folium.vector_layers.CircleMarker at 0x7f9c297c0550>,\n",
       " <folium.vector_layers.CircleMarker at 0x7f9c288adac8>,\n",
       " <folium.vector_layers.CircleMarker at 0x7f9c288ada90>,\n",
       " <folium.vector_layers.CircleMarker at 0x7f9c288adb00>,\n",
       " <folium.vector_layers.CircleMarker at 0x7f9c288adc50>,\n",
       " <folium.vector_layers.CircleMarker at 0x7f9c288ad7f0>,\n",
       " <folium.vector_layers.CircleMarker at 0x7f9c288ad828>,\n",
       " <folium.vector_layers.CircleMarker at 0x7f9c288ad978>,\n",
       " <folium.vector_layers.CircleMarker at 0x7f9c288ad3c8>,\n",
       " <folium.vector_layers.CircleMarker at 0x7f9c288ad198>,\n",
       " <folium.vector_layers.CircleMarker at 0x7f9c288ad160>,\n",
       " <folium.vector_layers.CircleMarker at 0x7f9c288ad240>,\n",
       " <folium.vector_layers.CircleMarker at 0x7f9c288ad940>,\n",
       " <folium.vector_layers.CircleMarker at 0x7f9c288ade80>,\n",
       " <folium.vector_layers.CircleMarker at 0x7f9c288adeb8>,\n",
       " <folium.vector_layers.CircleMarker at 0x7f9c288adf60>,\n",
       " <folium.vector_layers.CircleMarker at 0x7f9c288adef0>,\n",
       " <folium.vector_layers.CircleMarker at 0x7f9c286e7048>,\n",
       " <folium.vector_layers.CircleMarker at 0x7f9c286e7128>,\n",
       " <folium.vector_layers.CircleMarker at 0x7f9c286e7240>,\n",
       " <folium.vector_layers.CircleMarker at 0x7f9c288ad2b0>,\n",
       " <folium.vector_layers.CircleMarker at 0x7f9c288adfd0>,\n",
       " <folium.vector_layers.CircleMarker at 0x7f9c288ade48>,\n",
       " <folium.vector_layers.CircleMarker at 0x7f9c288ad4e0>,\n",
       " <folium.vector_layers.CircleMarker at 0x7f9c288ad400>,\n",
       " <folium.vector_layers.CircleMarker at 0x7f9c288adc18>,\n",
       " <folium.vector_layers.CircleMarker at 0x7f9c288ad4a8>,\n",
       " <folium.vector_layers.CircleMarker at 0x7f9c288ad7b8>,\n",
       " <folium.vector_layers.CircleMarker at 0x7f9c288ada58>,\n",
       " <folium.vector_layers.CircleMarker at 0x7f9c28782b00>,\n",
       " <folium.vector_layers.CircleMarker at 0x7f9c297c0fd0>,\n",
       " <folium.vector_layers.CircleMarker at 0x7f9c297c0470>,\n",
       " <folium.vector_layers.CircleMarker at 0x7f9c288add68>,\n",
       " <folium.vector_layers.CircleMarker at 0x7f9c286e71d0>,\n",
       " <folium.vector_layers.CircleMarker at 0x7f9c286e7198>,\n",
       " <folium.vector_layers.CircleMarker at 0x7f9c286e7400>,\n",
       " <folium.vector_layers.CircleMarker at 0x7f9c286e7438>,\n",
       " <folium.vector_layers.CircleMarker at 0x7f9c286e74e0>,\n",
       " <folium.vector_layers.CircleMarker at 0x7f9c286e7588>,\n",
       " <folium.vector_layers.CircleMarker at 0x7f9c286e7630>,\n",
       " <folium.vector_layers.CircleMarker at 0x7f9c286e76d8>,\n",
       " <folium.vector_layers.CircleMarker at 0x7f9c286e7780>,\n",
       " <folium.vector_layers.CircleMarker at 0x7f9c288ad550>,\n",
       " <folium.vector_layers.CircleMarker at 0x7f9c288adb38>,\n",
       " <folium.vector_layers.CircleMarker at 0x7f9c288ad0f0>,\n",
       " <folium.vector_layers.CircleMarker at 0x7f9c288ad390>,\n",
       " <folium.vector_layers.CircleMarker at 0x7f9c28938ba8>,\n",
       " <folium.vector_layers.CircleMarker at 0x7f9c28782fd0>,\n",
       " <folium.vector_layers.CircleMarker at 0x7f9c288ade10>,\n",
       " <folium.vector_layers.CircleMarker at 0x7f9c288ad048>,\n",
       " <folium.vector_layers.CircleMarker at 0x7f9c288adb70>,\n",
       " <folium.vector_layers.CircleMarker at 0x7f9c297c0cf8>,\n",
       " <folium.vector_layers.CircleMarker at 0x7f9c297c0b70>,\n",
       " <folium.vector_layers.CircleMarker at 0x7f9c286e76a0>,\n",
       " <folium.vector_layers.CircleMarker at 0x7f9c286e7550>,\n",
       " <folium.vector_layers.CircleMarker at 0x7f9c286e70b8>,\n",
       " <folium.vector_layers.CircleMarker at 0x7f9c286e73c8>,\n",
       " <folium.vector_layers.CircleMarker at 0x7f9c286e7358>,\n",
       " <folium.vector_layers.CircleMarker at 0x7f9c286e7668>,\n",
       " <folium.vector_layers.CircleMarker at 0x7f9c286e7860>,\n",
       " <folium.vector_layers.CircleMarker at 0x7f9c286e7908>,\n",
       " <folium.vector_layers.CircleMarker at 0x7f9c286e72e8>,\n",
       " <folium.vector_layers.CircleMarker at 0x7f9c286e79e8>,\n",
       " <folium.vector_layers.CircleMarker at 0x7f9c286e7a90>,\n",
       " <folium.vector_layers.CircleMarker at 0x7f9c297c07f0>,\n",
       " <folium.vector_layers.CircleMarker at 0x7f9c297c0cc0>,\n",
       " <folium.vector_layers.CircleMarker at 0x7f9c288add30>,\n",
       " <folium.vector_layers.CircleMarker at 0x7f9c288ad080>,\n",
       " <folium.vector_layers.CircleMarker at 0x7f9c288adc88>,\n",
       " <folium.vector_layers.CircleMarker at 0x7f9c288ada20>,\n",
       " <folium.vector_layers.CircleMarker at 0x7f9c288adf98>,\n",
       " <folium.vector_layers.CircleMarker at 0x7f9c286e7940>,\n",
       " <folium.vector_layers.CircleMarker at 0x7f9c286e77b8>,\n",
       " <folium.vector_layers.CircleMarker at 0x7f9c286e7898>,\n",
       " <folium.vector_layers.CircleMarker at 0x7f9c286e7390>,\n",
       " <folium.vector_layers.CircleMarker at 0x7f9c286e7208>,\n",
       " <folium.vector_layers.CircleMarker at 0x7f9c286e7278>,\n",
       " <folium.vector_layers.CircleMarker at 0x7f9c286e7b38>,\n",
       " <folium.vector_layers.CircleMarker at 0x7f9c286e7a20>,\n",
       " <folium.vector_layers.CircleMarker at 0x7f9c286e7c50>,\n",
       " <folium.vector_layers.CircleMarker at 0x7f9c286e7c88>,\n",
       " <folium.vector_layers.CircleMarker at 0x7f9c286e7d30>,\n",
       " <folium.vector_layers.CircleMarker at 0x7f9c286e7dd8>,\n",
       " <folium.vector_layers.CircleMarker at 0x7f9c286e7e80>,\n",
       " <folium.vector_layers.CircleMarker at 0x7f9c286e7f28>,\n",
       " <folium.vector_layers.CircleMarker at 0x7f9c286e7fd0>,\n",
       " <folium.vector_layers.CircleMarker at 0x7f9c288addd8>,\n",
       " <folium.vector_layers.CircleMarker at 0x7f9c288ad780>,\n",
       " <folium.vector_layers.CircleMarker at 0x7f9c297c02e8>,\n",
       " <folium.vector_layers.CircleMarker at 0x7f9c288adcc0>,\n",
       " <folium.vector_layers.CircleMarker at 0x7f9c288ad860>,\n",
       " <folium.vector_layers.CircleMarker at 0x7f9c286e7cc0>,\n",
       " <folium.vector_layers.CircleMarker at 0x7f9c286e7be0>,\n",
       " <folium.vector_layers.CircleMarker at 0x7f9c286e75c0>,\n",
       " <folium.vector_layers.CircleMarker at 0x7f9c286e7518>,\n",
       " <folium.vector_layers.CircleMarker at 0x7f9c286e7748>,\n",
       " <folium.vector_layers.CircleMarker at 0x7f9c286e70f0>,\n",
       " <folium.vector_layers.CircleMarker at 0x7f9c286e72b0>,\n",
       " <folium.vector_layers.CircleMarker at 0x7f9c286e79b0>,\n",
       " <folium.vector_layers.CircleMarker at 0x7f9c286e7eb8>,\n",
       " <folium.vector_layers.CircleMarker at 0x7f9c286e7320>,\n",
       " <folium.vector_layers.CircleMarker at 0x7f9c286fa128>,\n",
       " <folium.vector_layers.CircleMarker at 0x7f9c286fa208>,\n",
       " <folium.vector_layers.CircleMarker at 0x7f9c286fa2b0>,\n",
       " <folium.vector_layers.CircleMarker at 0x7f9c286fa358>,\n",
       " <folium.vector_layers.CircleMarker at 0x7f9c286fa400>,\n",
       " <folium.vector_layers.CircleMarker at 0x7f9c286fa4a8>,\n",
       " <folium.vector_layers.CircleMarker at 0x7f9c286fa550>,\n",
       " <folium.vector_layers.CircleMarker at 0x7f9c286e7f98>,\n",
       " <folium.vector_layers.CircleMarker at 0x7f9c286e78d0>,\n",
       " <folium.vector_layers.CircleMarker at 0x7f9c286e7cf8>,\n",
       " <folium.vector_layers.CircleMarker at 0x7f9c297c0438>,\n",
       " <folium.vector_layers.CircleMarker at 0x7f9c286e7ba8>,\n",
       " <folium.vector_layers.CircleMarker at 0x7f9c286e7ac8>,\n",
       " <folium.vector_layers.CircleMarker at 0x7f9c286e7da0>,\n",
       " <folium.vector_layers.CircleMarker at 0x7f9c288ad8d0>,\n",
       " <folium.vector_layers.CircleMarker at 0x7f9c288ad588>,\n",
       " <folium.vector_layers.CircleMarker at 0x7f9c286fa390>,\n",
       " <folium.vector_layers.CircleMarker at 0x7f9c286fa3c8>,\n",
       " <folium.vector_layers.CircleMarker at 0x7f9c286fa278>,\n",
       " <folium.vector_layers.CircleMarker at 0x7f9c286fa0b8>,\n",
       " <folium.vector_layers.CircleMarker at 0x7f9c286fa5f8>,\n",
       " <folium.vector_layers.CircleMarker at 0x7f9c286fa4e0>,\n",
       " <folium.vector_layers.CircleMarker at 0x7f9c286fa710>,\n",
       " <folium.vector_layers.CircleMarker at 0x7f9c286fa748>,\n",
       " <folium.vector_layers.CircleMarker at 0x7f9c286fa7f0>,\n",
       " <folium.vector_layers.CircleMarker at 0x7f9c286fa898>,\n",
       " <folium.vector_layers.CircleMarker at 0x7f9c286fa940>,\n",
       " <folium.vector_layers.CircleMarker at 0x7f9c286fa9e8>,\n",
       " <folium.vector_layers.CircleMarker at 0x7f9c286faa90>,\n",
       " <folium.vector_layers.CircleMarker at 0x7f9c297c0b00>,\n",
       " <folium.vector_layers.CircleMarker at 0x7f9c288ad630>,\n",
       " <folium.vector_layers.CircleMarker at 0x7f9c286e7e10>,\n",
       " <folium.vector_layers.CircleMarker at 0x7f9c286e7e48>,\n",
       " <folium.vector_layers.CircleMarker at 0x7f9c286e7160>,\n",
       " <folium.vector_layers.CircleMarker at 0x7f9c286e75f8>,\n",
       " <folium.vector_layers.CircleMarker at 0x7f9c286fa9b0>,\n",
       " <folium.vector_layers.CircleMarker at 0x7f9c286fa860>,\n",
       " <folium.vector_layers.CircleMarker at 0x7f9c286fa668>,\n",
       " <folium.vector_layers.CircleMarker at 0x7f9c286fa6d8>,\n",
       " <folium.vector_layers.CircleMarker at 0x7f9c286fa160>,\n",
       " <folium.vector_layers.CircleMarker at 0x7f9c286fa198>,\n",
       " <folium.vector_layers.CircleMarker at 0x7f9c286fa470>,\n",
       " <folium.vector_layers.CircleMarker at 0x7f9c286fab38>,\n",
       " <folium.vector_layers.CircleMarker at 0x7f9c286faa20>,\n",
       " <folium.vector_layers.CircleMarker at 0x7f9c286fac50>,\n",
       " <folium.vector_layers.CircleMarker at 0x7f9c286fac88>,\n",
       " <folium.vector_layers.CircleMarker at 0x7f9c286fad30>,\n",
       " <folium.vector_layers.CircleMarker at 0x7f9c286fadd8>,\n",
       " <folium.vector_layers.CircleMarker at 0x7f9c286fae80>,\n",
       " <folium.vector_layers.CircleMarker at 0x7f9c286faf28>,\n",
       " <folium.vector_layers.CircleMarker at 0x7f9c286fafd0>,\n",
       " <folium.vector_layers.CircleMarker at 0x7f9c286e7d68>,\n",
       " <folium.vector_layers.CircleMarker at 0x7f9c288adba8>,\n",
       " <folium.vector_layers.CircleMarker at 0x7f9c286e74a8>,\n",
       " <folium.vector_layers.CircleMarker at 0x7f9c286e7ef0>,\n",
       " <folium.vector_layers.CircleMarker at 0x7f9c286facc0>,\n",
       " <folium.vector_layers.CircleMarker at 0x7f9c286fabe0>,\n",
       " <folium.vector_layers.CircleMarker at 0x7f9c286fa2e8>,\n",
       " <folium.vector_layers.CircleMarker at 0x7f9c286fa0f0>,\n",
       " <folium.vector_layers.CircleMarker at 0x7f9c286fa978>,\n",
       " <folium.vector_layers.CircleMarker at 0x7f9c286fa080>,\n",
       " <folium.vector_layers.CircleMarker at 0x7f9c286fa630>,\n",
       " <folium.vector_layers.CircleMarker at 0x7f9c286fa828>,\n",
       " <folium.vector_layers.CircleMarker at 0x7f9c286fa908>,\n",
       " <folium.vector_layers.CircleMarker at 0x7f9c286faeb8>,\n",
       " <folium.vector_layers.CircleMarker at 0x7f9c286fa7b8>,\n",
       " <folium.vector_layers.CircleMarker at 0x7f9c287100f0>,\n",
       " <folium.vector_layers.CircleMarker at 0x7f9c28710208>,\n",
       " <folium.vector_layers.CircleMarker at 0x7f9c287102b0>,\n",
       " <folium.vector_layers.CircleMarker at 0x7f9c28710358>,\n",
       " <folium.vector_layers.CircleMarker at 0x7f9c28710400>,\n",
       " <folium.vector_layers.CircleMarker at 0x7f9c287104a8>,\n",
       " <folium.vector_layers.CircleMarker at 0x7f9c288ad358>,\n",
       " <folium.vector_layers.CircleMarker at 0x7f9c286faf60>,\n",
       " <folium.vector_layers.CircleMarker at 0x7f9c286fa048>,\n",
       " <folium.vector_layers.CircleMarker at 0x7f9c286fa320>,\n",
       " <folium.vector_layers.CircleMarker at 0x7f9c286fae48>,\n",
       " <folium.vector_layers.CircleMarker at 0x7f9c286faba8>,\n",
       " <folium.vector_layers.CircleMarker at 0x7f9c286fad68>,\n",
       " <folium.vector_layers.CircleMarker at 0x7f9c286fada0>,\n",
       " <folium.vector_layers.CircleMarker at 0x7f9c286e7c18>,\n",
       " <folium.vector_layers.CircleMarker at 0x7f9c286e7470>,\n",
       " <folium.vector_layers.CircleMarker at 0x7f9c28710550>,\n",
       " <folium.vector_layers.CircleMarker at 0x7f9c287103c8>,\n",
       " <folium.vector_layers.CircleMarker at 0x7f9c28710278>,\n",
       " <folium.vector_layers.CircleMarker at 0x7f9c28710080>,\n",
       " <folium.vector_layers.CircleMarker at 0x7f9c28710438>,\n",
       " <folium.vector_layers.CircleMarker at 0x7f9c28710668>,\n",
       " <folium.vector_layers.CircleMarker at 0x7f9c287106a0>,\n",
       " <folium.vector_layers.CircleMarker at 0x7f9c28710748>,\n",
       " <folium.vector_layers.CircleMarker at 0x7f9c287107f0>,\n",
       " <folium.vector_layers.CircleMarker at 0x7f9c28710898>,\n",
       " <folium.vector_layers.CircleMarker at 0x7f9c28710940>,\n",
       " <folium.vector_layers.CircleMarker at 0x7f9c287109e8>,\n",
       " <folium.vector_layers.CircleMarker at 0x7f9c286e7f60>,\n",
       " <folium.vector_layers.CircleMarker at 0x7f9c286fae10>,\n",
       " <folium.vector_layers.CircleMarker at 0x7f9c286facf8>,\n",
       " <folium.vector_layers.CircleMarker at 0x7f9c286fa438>,\n",
       " <folium.vector_layers.CircleMarker at 0x7f9c286fa1d0>,\n",
       " <folium.vector_layers.CircleMarker at 0x7f9c286faa58>,\n",
       " <folium.vector_layers.CircleMarker at 0x7f9c286fa6a0>,\n",
       " <folium.vector_layers.CircleMarker at 0x7f9c287106d8>,\n",
       " <folium.vector_layers.CircleMarker at 0x7f9c287105f8>,\n",
       " <folium.vector_layers.CircleMarker at 0x7f9c28710128>,\n",
       " <folium.vector_layers.CircleMarker at 0x7f9c28710160>,\n",
       " <folium.vector_layers.CircleMarker at 0x7f9c28710198>,\n",
       " <folium.vector_layers.CircleMarker at 0x7f9c28710470>,\n",
       " <folium.vector_layers.CircleMarker at 0x7f9c28710a90>,\n",
       " <folium.vector_layers.CircleMarker at 0x7f9c28710978>,\n",
       " <folium.vector_layers.CircleMarker at 0x7f9c28710ba8>,\n",
       " <folium.vector_layers.CircleMarker at 0x7f9c28710be0>,\n",
       " <folium.vector_layers.CircleMarker at 0x7f9c28710c88>,\n",
       " <folium.vector_layers.CircleMarker at 0x7f9c28710d30>,\n",
       " <folium.vector_layers.CircleMarker at 0x7f9c28710dd8>,\n",
       " <folium.vector_layers.CircleMarker at 0x7f9c28710e80>,\n",
       " <folium.vector_layers.CircleMarker at 0x7f9c28710f28>,\n",
       " <folium.vector_layers.CircleMarker at 0x7f9c286e7080>,\n",
       " <folium.vector_layers.CircleMarker at 0x7f9c286fab70>,\n",
       " <folium.vector_layers.CircleMarker at 0x7f9c286fa240>,\n",
       " <folium.vector_layers.CircleMarker at 0x7f9c286fa588>,\n",
       " <folium.vector_layers.CircleMarker at 0x7f9c28710e48>,\n",
       " <folium.vector_layers.CircleMarker at 0x7f9c28710cf8>,\n",
       " <folium.vector_layers.CircleMarker at 0x7f9c28710b00>,\n",
       " <folium.vector_layers.CircleMarker at 0x7f9c28710b70>,\n",
       " <folium.vector_layers.CircleMarker at 0x7f9c28710588>,\n",
       " <folium.vector_layers.CircleMarker at 0x7f9c28710320>,\n",
       " <folium.vector_layers.CircleMarker at 0x7f9c28710860>,\n",
       " <folium.vector_layers.CircleMarker at 0x7f9c28710048>,\n",
       " <folium.vector_layers.CircleMarker at 0x7f9c28710780>,\n",
       " <folium.vector_layers.CircleMarker at 0x7f9c28710fd0>,\n",
       " <folium.vector_layers.CircleMarker at 0x7f9c28710f60>,\n",
       " <folium.vector_layers.CircleMarker at 0x7f9c28710828>,\n",
       " <folium.vector_layers.CircleMarker at 0x7f9c286a5128>,\n",
       " <folium.vector_layers.CircleMarker at 0x7f9c286a5208>,\n",
       " <folium.vector_layers.CircleMarker at 0x7f9c286a52b0>,\n",
       " <folium.vector_layers.CircleMarker at 0x7f9c286a5358>,\n",
       " <folium.vector_layers.CircleMarker at 0x7f9c286a5400>,\n",
       " <folium.vector_layers.CircleMarker at 0x7f9c286a54a8>,\n",
       " <folium.vector_layers.CircleMarker at 0x7f9c28710d68>,\n",
       " <folium.vector_layers.CircleMarker at 0x7f9c28710e10>,\n",
       " <folium.vector_layers.CircleMarker at 0x7f9c287100b8>,\n",
       " <folium.vector_layers.CircleMarker at 0x7f9c287101d0>,\n",
       " <folium.vector_layers.CircleMarker at 0x7f9c28710c18>,\n",
       " <folium.vector_layers.CircleMarker at 0x7f9c28710c50>,\n",
       " <folium.vector_layers.CircleMarker at 0x7f9c286e7828>,\n",
       " <folium.vector_layers.CircleMarker at 0x7f9c28710a20>,\n",
       " <folium.vector_layers.CircleMarker at 0x7f9c286faf98>,\n",
       " <folium.vector_layers.CircleMarker at 0x7f9c286fac18>,\n",
       " <folium.vector_layers.CircleMarker at 0x7f9c286a53c8>,\n",
       " <folium.vector_layers.CircleMarker at 0x7f9c286a5278>,\n",
       " <folium.vector_layers.CircleMarker at 0x7f9c286a50b8>,\n",
       " <folium.vector_layers.CircleMarker at 0x7f9c286a5550>,\n",
       " <folium.vector_layers.CircleMarker at 0x7f9c286a5438>,\n",
       " <folium.vector_layers.CircleMarker at 0x7f9c286a5668>,\n",
       " <folium.vector_layers.CircleMarker at 0x7f9c286a56a0>,\n",
       " <folium.vector_layers.CircleMarker at 0x7f9c286a5748>,\n",
       " <folium.vector_layers.CircleMarker at 0x7f9c286a57f0>,\n",
       " <folium.vector_layers.CircleMarker at 0x7f9c286a5898>,\n",
       " <folium.vector_layers.CircleMarker at 0x7f9c286a5940>,\n",
       " <folium.vector_layers.CircleMarker at 0x7f9c286fa8d0>,\n",
       " <folium.vector_layers.CircleMarker at 0x7f9c286faac8>,\n",
       " <folium.vector_layers.CircleMarker at 0x7f9c28710b38>,\n",
       " <folium.vector_layers.CircleMarker at 0x7f9c28710ac8>,\n",
       " <folium.vector_layers.CircleMarker at 0x7f9c287108d0>,\n",
       " <folium.vector_layers.CircleMarker at 0x7f9c287107b8>,\n",
       " <folium.vector_layers.CircleMarker at 0x7f9c287104e0>,\n",
       " <folium.vector_layers.CircleMarker at 0x7f9c286a5860>,\n",
       " <folium.vector_layers.CircleMarker at 0x7f9c286a5710>,\n",
       " <folium.vector_layers.CircleMarker at 0x7f9c286a5048>,\n",
       " <folium.vector_layers.CircleMarker at 0x7f9c286a5588>,\n",
       " <folium.vector_layers.CircleMarker at 0x7f9c286a5240>,\n",
       " <folium.vector_layers.CircleMarker at 0x7f9c286a5320>,\n",
       " <folium.vector_layers.CircleMarker at 0x7f9c286a59e8>,\n",
       " <folium.vector_layers.CircleMarker at 0x7f9c286a58d0>,\n",
       " <folium.vector_layers.CircleMarker at 0x7f9c286a5b00>,\n",
       " <folium.vector_layers.CircleMarker at 0x7f9c286a5b38>,\n",
       " <folium.vector_layers.CircleMarker at 0x7f9c286a5be0>,\n",
       " <folium.vector_layers.CircleMarker at 0x7f9c286a5c88>,\n",
       " <folium.vector_layers.CircleMarker at 0x7f9c286a5d30>,\n",
       " <folium.vector_layers.CircleMarker at 0x7f9c286a5dd8>,\n",
       " <folium.vector_layers.CircleMarker at 0x7f9c286a5e80>,\n",
       " <folium.vector_layers.CircleMarker at 0x7f9c286faef0>,\n",
       " <folium.vector_layers.CircleMarker at 0x7f9c28710eb8>,\n",
       " <folium.vector_layers.CircleMarker at 0x7f9c287102e8>,\n",
       " <folium.vector_layers.CircleMarker at 0x7f9c28710ef0>,\n",
       " <folium.vector_layers.CircleMarker at 0x7f9c286a5cc0>,\n",
       " <folium.vector_layers.CircleMarker at 0x7f9c286a5cf8>,\n",
       " <folium.vector_layers.CircleMarker at 0x7f9c286a5ba8>,\n",
       " <folium.vector_layers.CircleMarker at 0x7f9c286a5470>,\n",
       " <folium.vector_layers.CircleMarker at 0x7f9c286a5a20>,\n",
       " <folium.vector_layers.CircleMarker at 0x7f9c286a5630>,\n",
       " <folium.vector_layers.CircleMarker at 0x7f9c286a5390>,\n",
       " <folium.vector_layers.CircleMarker at 0x7f9c286a56d8>,\n",
       " <folium.vector_layers.CircleMarker at 0x7f9c286a57b8>,\n",
       " <folium.vector_layers.CircleMarker at 0x7f9c286a5f28>,\n",
       " <folium.vector_layers.CircleMarker at 0x7f9c286a5e10>,\n",
       " <folium.vector_layers.CircleMarker at 0x7f9c286a5780>,\n",
       " <folium.vector_layers.CircleMarker at 0x7f9c286a5f98>,\n",
       " <folium.vector_layers.CircleMarker at 0x7f9c286b9128>,\n",
       " <folium.vector_layers.CircleMarker at 0x7f9c286b9208>,\n",
       " <folium.vector_layers.CircleMarker at 0x7f9c286b92b0>,\n",
       " <folium.vector_layers.CircleMarker at 0x7f9c286b9358>,\n",
       " <folium.vector_layers.CircleMarker at 0x7f9c286b9400>,\n",
       " <folium.vector_layers.CircleMarker at 0x7f9c286a5c18>,\n",
       " <folium.vector_layers.CircleMarker at 0x7f9c286a5f60>,\n",
       " <folium.vector_layers.CircleMarker at 0x7f9c286a5160>,\n",
       " <folium.vector_layers.CircleMarker at 0x7f9c286a55c0>,\n",
       " <folium.vector_layers.CircleMarker at 0x7f9c286a5978>,\n",
       " <folium.vector_layers.CircleMarker at 0x7f9c286a52e8>,\n",
       " <folium.vector_layers.CircleMarker at 0x7f9c286a5da0>,\n",
       " <folium.vector_layers.CircleMarker at 0x7f9c286a59b0>,\n",
       " <folium.vector_layers.CircleMarker at 0x7f9c286a5e48>,\n",
       " <folium.vector_layers.CircleMarker at 0x7f9c287105c0>,\n",
       " <folium.vector_layers.CircleMarker at 0x7f9c287109b0>,\n",
       " <folium.vector_layers.CircleMarker at 0x7f9c288adf28>,\n",
       " <folium.vector_layers.CircleMarker at 0x7f9c286fab00>,\n",
       " <folium.vector_layers.CircleMarker at 0x7f9c286fa518>,\n",
       " <folium.vector_layers.CircleMarker at 0x7f9c28710f98>,\n",
       " <folium.vector_layers.CircleMarker at 0x7f9c286e7978>,\n",
       " <folium.vector_layers.CircleMarker at 0x7f9c286e7b00>,\n",
       " <folium.vector_layers.CircleMarker at 0x7f9c286b90f0>,\n",
       " <folium.vector_layers.CircleMarker at 0x7f9c286b90b8>,\n",
       " <folium.vector_layers.CircleMarker at 0x7f9c286b94a8>,\n",
       " <folium.vector_layers.CircleMarker at 0x7f9c286b9390>,\n",
       " <folium.vector_layers.CircleMarker at 0x7f9c286b95c0>,\n",
       " <folium.vector_layers.CircleMarker at 0x7f9c286fa780>,\n",
       " <folium.vector_layers.CircleMarker at 0x7f9c286e7710>,\n",
       " <folium.vector_layers.CircleMarker at 0x7f9c28710cc0>,\n",
       " <folium.vector_layers.CircleMarker at 0x7f9c28710a58>,\n",
       " <folium.vector_layers.CircleMarker at 0x7f9c28710240>,\n",
       " <folium.vector_layers.CircleMarker at 0x7f9c286a5828>,\n",
       " <folium.vector_layers.CircleMarker at 0x7f9c286a5a58>,\n",
       " <folium.vector_layers.CircleMarker at 0x7f9c286a54e0>,\n",
       " <folium.vector_layers.CircleMarker at 0x7f9c286a5ac8>,\n",
       " <folium.vector_layers.CircleMarker at 0x7f9c286a5080>,\n",
       " <folium.vector_layers.CircleMarker at 0x7f9c286a50f0>,\n",
       " <folium.vector_layers.CircleMarker at 0x7f9c286b94e0>,\n",
       " <folium.vector_layers.CircleMarker at 0x7f9c286b91d0>,\n",
       " <folium.vector_layers.CircleMarker at 0x7f9c286b95f8>,\n",
       " <folium.vector_layers.CircleMarker at 0x7f9c286b9550>,\n",
       " <folium.vector_layers.CircleMarker at 0x7f9c286b9710>,\n",
       " <folium.vector_layers.CircleMarker at 0x7f9c286b9748>,\n",
       " <folium.vector_layers.CircleMarker at 0x7f9c286b97f0>,\n",
       " <folium.vector_layers.CircleMarker at 0x7f9c286b9898>,\n",
       " <folium.vector_layers.CircleMarker at 0x7f9c286b9940>,\n",
       " <folium.vector_layers.CircleMarker at 0x7f9c286b99e8>,\n",
       " <folium.vector_layers.CircleMarker at 0x7f9c286b9a90>,\n",
       " <folium.vector_layers.CircleMarker at 0x7f9c286a5a90>,\n",
       " <folium.vector_layers.CircleMarker at 0x7f9c286a5ef0>,\n",
       " <folium.vector_layers.CircleMarker at 0x7f9c286e7a58>,\n",
       " <folium.vector_layers.CircleMarker at 0x7f9c288ad6d8>,\n",
       " <folium.vector_layers.CircleMarker at 0x7f9c286a5eb8>,\n",
       " <folium.vector_layers.CircleMarker at 0x7f9c28710390>,\n",
       " <folium.vector_layers.CircleMarker at 0x7f9c28710da0>,\n",
       " <folium.vector_layers.CircleMarker at 0x7f9c286b99b0>,\n",
       " <folium.vector_layers.CircleMarker at 0x7f9c286b9860>,\n",
       " <folium.vector_layers.CircleMarker at 0x7f9c286b9668>,\n",
       " <folium.vector_layers.CircleMarker at 0x7f9c286b96d8>,\n",
       " <folium.vector_layers.CircleMarker at 0x7f9c286b9278>,\n",
       " <folium.vector_layers.CircleMarker at 0x7f9c286b92e8>,\n",
       " <folium.vector_layers.CircleMarker at 0x7f9c286b9b38>,\n",
       " <folium.vector_layers.CircleMarker at 0x7f9c286b9a20>,\n",
       " <folium.vector_layers.CircleMarker at 0x7f9c286b9c50>,\n",
       " <folium.vector_layers.CircleMarker at 0x7f9c286b9c88>,\n",
       " <folium.vector_layers.CircleMarker at 0x7f9c286b9d30>,\n",
       " <folium.vector_layers.CircleMarker at 0x7f9c286b9dd8>,\n",
       " <folium.vector_layers.CircleMarker at 0x7f9c286b9e80>,\n",
       " <folium.vector_layers.CircleMarker at 0x7f9c286b9f28>,\n",
       " <folium.vector_layers.CircleMarker at 0x7f9c286b9fd0>,\n",
       " <folium.vector_layers.CircleMarker at 0x7f9c286fa5c0>,\n",
       " <folium.vector_layers.CircleMarker at 0x7f9c28710518>,\n",
       " <folium.vector_layers.CircleMarker at 0x7f9c286a55f8>,\n",
       " <folium.vector_layers.CircleMarker at 0x7f9c286a5198>,\n",
       " <folium.vector_layers.CircleMarker at 0x7f9c286b9e10>,\n",
       " <folium.vector_layers.CircleMarker at 0x7f9c286b9e48>,\n",
       " <folium.vector_layers.CircleMarker at 0x7f9c286b9cf8>,\n",
       " <folium.vector_layers.CircleMarker at 0x7f9c286b9588>,\n",
       " <folium.vector_layers.CircleMarker at 0x7f9c286b9b70>,\n",
       " <folium.vector_layers.CircleMarker at 0x7f9c286b93c8>,\n",
       " <folium.vector_layers.CircleMarker at 0x7f9c286b9630>,\n",
       " <folium.vector_layers.CircleMarker at 0x7f9c286b9828>,\n",
       " <folium.vector_layers.CircleMarker at 0x7f9c286b9908>,\n",
       " <folium.vector_layers.CircleMarker at 0x7f9c286b9eb8>,\n",
       " <folium.vector_layers.CircleMarker at 0x7f9c286b97b8>,\n",
       " <folium.vector_layers.CircleMarker at 0x7f9c286cd0f0>,\n",
       " <folium.vector_layers.CircleMarker at 0x7f9c286cd208>,\n",
       " <folium.vector_layers.CircleMarker at 0x7f9c286cd2b0>,\n",
       " <folium.vector_layers.CircleMarker at 0x7f9c286cd358>,\n",
       " <folium.vector_layers.CircleMarker at 0x7f9c286cd400>,\n",
       " <folium.vector_layers.CircleMarker at 0x7f9c286cd4a8>,\n",
       " <folium.vector_layers.CircleMarker at 0x7f9c286cd550>,\n",
       " <folium.vector_layers.CircleMarker at 0x7f9c286b9d68>,\n",
       " <folium.vector_layers.CircleMarker at 0x7f9c286b9438>,\n",
       " <folium.vector_layers.CircleMarker at 0x7f9c286b9ba8>,\n",
       " <folium.vector_layers.CircleMarker at 0x7f9c286b9240>,\n",
       " <folium.vector_layers.CircleMarker at 0x7f9c286b9be0>,\n",
       " <folium.vector_layers.CircleMarker at 0x7f9c28710630>,\n",
       " <folium.vector_layers.CircleMarker at 0x7f9c286b9f98>,\n",
       " <folium.vector_layers.CircleMarker at 0x7f9c286b9da0>,\n",
       " <folium.vector_layers.CircleMarker at 0x7f9c286a5c50>,\n",
       " <folium.vector_layers.CircleMarker at 0x7f9c286cd390>,\n",
       " <folium.vector_layers.CircleMarker at 0x7f9c286cd3c8>,\n",
       " <folium.vector_layers.CircleMarker at 0x7f9c286cd278>,\n",
       " <folium.vector_layers.CircleMarker at 0x7f9c286cd080>,\n",
       " <folium.vector_layers.CircleMarker at 0x7f9c286cd5f8>,\n",
       " <folium.vector_layers.CircleMarker at 0x7f9c286cd4e0>,\n",
       " <folium.vector_layers.CircleMarker at 0x7f9c286cd710>,\n",
       " <folium.vector_layers.CircleMarker at 0x7f9c286cd748>,\n",
       " <folium.vector_layers.CircleMarker at 0x7f9c286cd7f0>,\n",
       " <folium.vector_layers.CircleMarker at 0x7f9c286cd898>,\n",
       " <folium.vector_layers.CircleMarker at 0x7f9c286cd940>,\n",
       " <folium.vector_layers.CircleMarker at 0x7f9c286cd9e8>,\n",
       " <folium.vector_layers.CircleMarker at 0x7f9c286cda90>,\n",
       " <folium.vector_layers.CircleMarker at 0x7f9c286e7b70>,\n",
       " <folium.vector_layers.CircleMarker at 0x7f9c286a5d68>,\n",
       " <folium.vector_layers.CircleMarker at 0x7f9c286b9978>,\n",
       " <folium.vector_layers.CircleMarker at 0x7f9c286b9ac8>,\n",
       " <folium.vector_layers.CircleMarker at 0x7f9c286b9198>,\n",
       " <folium.vector_layers.CircleMarker at 0x7f9c286b9c18>,\n",
       " <folium.vector_layers.CircleMarker at 0x7f9c286cd8d0>,\n",
       " <folium.vector_layers.CircleMarker at 0x7f9c286cd908>,\n",
       " <folium.vector_layers.CircleMarker at 0x7f9c286cd7b8>,\n",
       " <folium.vector_layers.CircleMarker at 0x7f9c286cd048>,\n",
       " <folium.vector_layers.CircleMarker at 0x7f9c286cd630>,\n",
       " <folium.vector_layers.CircleMarker at 0x7f9c286cd240>,\n",
       " <folium.vector_layers.CircleMarker at 0x7f9c286cd320>,\n",
       " <folium.vector_layers.CircleMarker at 0x7f9c286cd5c0>,\n",
       " <folium.vector_layers.CircleMarker at 0x7f9c286cdba8>,\n",
       " <folium.vector_layers.CircleMarker at 0x7f9c286cdbe0>,\n",
       " <folium.vector_layers.CircleMarker at 0x7f9c286cdac8>,\n",
       " <folium.vector_layers.CircleMarker at 0x7f9c286cdcc0>,\n",
       " <folium.vector_layers.CircleMarker at 0x7f9c286cdd68>,\n",
       " <folium.vector_layers.CircleMarker at 0x7f9c286cde10>,\n",
       " <folium.vector_layers.CircleMarker at 0x7f9c286cdeb8>,\n",
       " <folium.vector_layers.CircleMarker at 0x7f9c286cdf60>,\n",
       " <folium.vector_layers.CircleMarker at 0x7f9c28710710>,\n",
       " <folium.vector_layers.CircleMarker at 0x7f9c286a5518>,\n",
       " <folium.vector_layers.CircleMarker at 0x7f9c286b9160>,\n",
       " <folium.vector_layers.CircleMarker at 0x7f9c286b9cc0>,\n",
       " <folium.vector_layers.CircleMarker at 0x7f9c286cde80>,\n",
       " <folium.vector_layers.CircleMarker at 0x7f9c286cdd30>,\n",
       " <folium.vector_layers.CircleMarker at 0x7f9c286cd978>,\n",
       " <folium.vector_layers.CircleMarker at 0x7f9c286cda20>,\n",
       " <folium.vector_layers.CircleMarker at 0x7f9c286cd160>,\n",
       " <folium.vector_layers.CircleMarker at 0x7f9c286cd0b8>,\n",
       " <folium.vector_layers.CircleMarker at 0x7f9c286cd588>,\n",
       " <folium.vector_layers.CircleMarker at 0x7f9c286cd128>,\n",
       " <folium.vector_layers.CircleMarker at 0x7f9c286cd9b0>,\n",
       " <folium.vector_layers.CircleMarker at 0x7f9c286cdfd0>,\n",
       " <folium.vector_layers.CircleMarker at 0x7f9c286cd828>,\n",
       " <folium.vector_layers.CircleMarker at 0x7f9c286cde48>,\n",
       " <folium.vector_layers.CircleMarker at 0x7f9c286640b8>,\n",
       " <folium.vector_layers.CircleMarker at 0x7f9c286641d0>,\n",
       " <folium.vector_layers.CircleMarker at 0x7f9c28664278>,\n",
       " <folium.vector_layers.CircleMarker at 0x7f9c28664320>,\n",
       " <folium.vector_layers.CircleMarker at 0x7f9c286643c8>,\n",
       " <folium.vector_layers.CircleMarker at 0x7f9c286cdf98>,\n",
       " <folium.vector_layers.CircleMarker at 0x7f9c286cdef0>,\n",
       " <folium.vector_layers.CircleMarker at 0x7f9c286cd518>,\n",
       " <folium.vector_layers.CircleMarker at 0x7f9c286cd438>,\n",
       " <folium.vector_layers.CircleMarker at 0x7f9c286cdb70>,\n",
       " <folium.vector_layers.CircleMarker at 0x7f9c286a5b70>,\n",
       " <folium.vector_layers.CircleMarker at 0x7f9c286cdc88>,\n",
       " <folium.vector_layers.CircleMarker at 0x7f9c286cddd8>,\n",
       " <folium.vector_layers.CircleMarker at 0x7f9c286cdc18>,\n",
       " <folium.vector_layers.CircleMarker at 0x7f9c286b9a58>,\n",
       " <folium.vector_layers.CircleMarker at 0x7f9c286b9f60>,\n",
       " <folium.vector_layers.CircleMarker at 0x7f9c28664208>,\n",
       " <folium.vector_layers.CircleMarker at 0x7f9c28664240>,\n",
       " <folium.vector_layers.CircleMarker at 0x7f9c28664470>,\n",
       " <folium.vector_layers.CircleMarker at 0x7f9c28664358>,\n",
       " <folium.vector_layers.CircleMarker at 0x7f9c28664588>,\n",
       " <folium.vector_layers.CircleMarker at 0x7f9c286645c0>,\n",
       " <folium.vector_layers.CircleMarker at 0x7f9c28664668>,\n",
       " <folium.vector_layers.CircleMarker at 0x7f9c28664710>,\n",
       " <folium.vector_layers.CircleMarker at 0x7f9c286647b8>,\n",
       " <folium.vector_layers.CircleMarker at 0x7f9c28664860>,\n",
       " <folium.vector_layers.CircleMarker at 0x7f9c28664908>,\n",
       " <folium.vector_layers.CircleMarker at 0x7f9c286a51d0>,\n",
       " <folium.vector_layers.CircleMarker at 0x7f9c286b96a0>,\n",
       " <folium.vector_layers.CircleMarker at 0x7f9c286cdcf8>,\n",
       " <folium.vector_layers.CircleMarker at 0x7f9c286cd2e8>,\n",
       " <folium.vector_layers.CircleMarker at 0x7f9c286cda58>,\n",
       " <folium.vector_layers.CircleMarker at 0x7f9c286cdb00>,\n",
       " <folium.vector_layers.CircleMarker at 0x7f9c286cd198>,\n",
       " <folium.vector_layers.CircleMarker at 0x7f9c28664748>,\n",
       " <folium.vector_layers.CircleMarker at 0x7f9c28664780>,\n",
       " <folium.vector_layers.CircleMarker at 0x7f9c28664630>,\n",
       " <folium.vector_layers.CircleMarker at 0x7f9c28664160>,\n",
       " <folium.vector_layers.CircleMarker at 0x7f9c286644a8>,\n",
       " <folium.vector_layers.CircleMarker at 0x7f9c286642e8>,\n",
       " <folium.vector_layers.CircleMarker at 0x7f9c286649b0>,\n",
       " <folium.vector_layers.CircleMarker at 0x7f9c28664898>,\n",
       " <folium.vector_layers.CircleMarker at 0x7f9c28664ac8>,\n",
       " <folium.vector_layers.CircleMarker at 0x7f9c28664b00>,\n",
       " <folium.vector_layers.CircleMarker at 0x7f9c28664ba8>,\n",
       " <folium.vector_layers.CircleMarker at 0x7f9c28664c50>,\n",
       " <folium.vector_layers.CircleMarker at 0x7f9c28664cf8>,\n",
       " <folium.vector_layers.CircleMarker at 0x7f9c28664da0>,\n",
       " <folium.vector_layers.CircleMarker at 0x7f9c28664e48>,\n",
       " <folium.vector_layers.CircleMarker at 0x7f9c286cdf28>,\n",
       " <folium.vector_layers.CircleMarker at 0x7f9c286cd668>,\n",
       " <folium.vector_layers.CircleMarker at 0x7f9c286b9ef0>,\n",
       " <folium.vector_layers.CircleMarker at 0x7f9c286cdb38>,\n",
       " <folium.vector_layers.CircleMarker at 0x7f9c286cd860>,\n",
       " <folium.vector_layers.CircleMarker at 0x7f9c28664b38>,\n",
       " <folium.vector_layers.CircleMarker at 0x7f9c28664a58>,\n",
       " <folium.vector_layers.CircleMarker at 0x7f9c286640f0>,\n",
       " <folium.vector_layers.CircleMarker at 0x7f9c28664080>,\n",
       " <folium.vector_layers.CircleMarker at 0x7f9c286647f0>,\n",
       " <folium.vector_layers.CircleMarker at 0x7f9c28664400>,\n",
       " <folium.vector_layers.CircleMarker at 0x7f9c28664198>,\n",
       " <folium.vector_layers.CircleMarker at 0x7f9c28664828>,\n",
       " <folium.vector_layers.CircleMarker at 0x7f9c28664ef0>,\n",
       " <folium.vector_layers.CircleMarker at 0x7f9c28664dd8>,\n",
       " <folium.vector_layers.CircleMarker at 0x7f9c28664e80>,\n",
       " <folium.vector_layers.CircleMarker at 0x7f9c28664f98>,\n",
       " <folium.vector_layers.CircleMarker at 0x7f9c286760f0>,\n",
       " <folium.vector_layers.CircleMarker at 0x7f9c286761d0>,\n",
       " <folium.vector_layers.CircleMarker at 0x7f9c28676278>,\n",
       " <folium.vector_layers.CircleMarker at 0x7f9c28676320>,\n",
       " <folium.vector_layers.CircleMarker at 0x7f9c286763c8>,\n",
       " <folium.vector_layers.CircleMarker at 0x7f9c28664e10>,\n",
       " <folium.vector_layers.CircleMarker at 0x7f9c28664518>,\n",
       " <folium.vector_layers.CircleMarker at 0x7f9c286646d8>,\n",
       " <folium.vector_layers.CircleMarker at 0x7f9c28664390>,\n",
       " <folium.vector_layers.CircleMarker at 0x7f9c28664550>,\n",
       " <folium.vector_layers.CircleMarker at 0x7f9c286b9048>,\n",
       " <folium.vector_layers.CircleMarker at 0x7f9c28664c18>,\n",
       " <folium.vector_layers.CircleMarker at 0x7f9c28664be0>,\n",
       " <folium.vector_layers.CircleMarker at 0x7f9c28664940>,\n",
       " <folium.vector_layers.CircleMarker at 0x7f9c286cd6d8>,\n",
       " <folium.vector_layers.CircleMarker at 0x7f9c286cd780>,\n",
       " <folium.vector_layers.CircleMarker at 0x7f9c286762e8>,\n",
       " <folium.vector_layers.CircleMarker at 0x7f9c28676160>,\n",
       " <folium.vector_layers.CircleMarker at 0x7f9c28676470>,\n",
       " <folium.vector_layers.CircleMarker at 0x7f9c28676358>,\n",
       " <folium.vector_layers.CircleMarker at 0x7f9c28676588>,\n",
       " <folium.vector_layers.CircleMarker at 0x7f9c286765c0>,\n",
       " <folium.vector_layers.CircleMarker at 0x7f9c28676668>,\n",
       " <folium.vector_layers.CircleMarker at 0x7f9c28676710>,\n",
       " <folium.vector_layers.CircleMarker at 0x7f9c286767b8>,\n",
       " <folium.vector_layers.CircleMarker at 0x7f9c28676860>,\n",
       " <folium.vector_layers.CircleMarker at 0x7f9c28676908>,\n",
       " <folium.vector_layers.CircleMarker at 0x7f9c286b9780>,\n",
       " <folium.vector_layers.CircleMarker at 0x7f9c286cd470>,\n",
       " <folium.vector_layers.CircleMarker at 0x7f9c28664c88>,\n",
       " <folium.vector_layers.CircleMarker at 0x7f9c28664f28>,\n",
       " <folium.vector_layers.CircleMarker at 0x7f9c286645f8>,\n",
       " <folium.vector_layers.CircleMarker at 0x7f9c28664fd0>,\n",
       " <folium.vector_layers.CircleMarker at 0x7f9c28664d30>,\n",
       " <folium.vector_layers.CircleMarker at 0x7f9c28676828>,\n",
       " <folium.vector_layers.CircleMarker at 0x7f9c286766d8>,\n",
       " <folium.vector_layers.CircleMarker at 0x7f9c286764e0>,\n",
       " <folium.vector_layers.CircleMarker at 0x7f9c28676550>,\n",
       " <folium.vector_layers.CircleMarker at 0x7f9c28676128>,\n",
       " <folium.vector_layers.CircleMarker at 0x7f9c28676240>,\n",
       " <folium.vector_layers.CircleMarker at 0x7f9c286769b0>,\n",
       " <folium.vector_layers.CircleMarker at 0x7f9c28676898>,\n",
       " <folium.vector_layers.CircleMarker at 0x7f9c28676ac8>,\n",
       " <folium.vector_layers.CircleMarker at 0x7f9c28676b00>,\n",
       " <folium.vector_layers.CircleMarker at 0x7f9c28676ba8>,\n",
       " <folium.vector_layers.CircleMarker at 0x7f9c28676c50>,\n",
       " <folium.vector_layers.CircleMarker at 0x7f9c28676cf8>,\n",
       " <folium.vector_layers.CircleMarker at 0x7f9c28676da0>,\n",
       " <folium.vector_layers.CircleMarker at 0x7f9c28676e48>,\n",
       " <folium.vector_layers.CircleMarker at 0x7f9c286cdda0>,\n",
       " <folium.vector_layers.CircleMarker at 0x7f9c28664f60>,\n",
       " <folium.vector_layers.CircleMarker at 0x7f9c28664048>,\n",
       " <folium.vector_layers.CircleMarker at 0x7f9c28710908>,\n",
       " <folium.vector_layers.CircleMarker at 0x7f9c286646a0>,\n",
       " <folium.vector_layers.CircleMarker at 0x7f9c28664978>,\n",
       " <folium.vector_layers.CircleMarker at 0x7f9c286b9320>,\n",
       " <folium.vector_layers.CircleMarker at 0x7f9c286b9518>,\n",
       " <folium.vector_layers.CircleMarker at 0x7f9c286648d0>,\n",
       " <folium.vector_layers.CircleMarker at 0x7f9c28676d68>,\n",
       " <folium.vector_layers.CircleMarker at 0x7f9c28676c18>,\n",
       " <folium.vector_layers.CircleMarker at 0x7f9c28676a20>,\n",
       " <folium.vector_layers.CircleMarker at 0x7f9c28676a90>,\n",
       " <folium.vector_layers.CircleMarker at 0x7f9c286760b8>,\n",
       " <folium.vector_layers.CircleMarker at 0x7f9c28676198>,\n",
       " <folium.vector_layers.CircleMarker at 0x7f9c286765f8>,\n",
       " <folium.vector_layers.CircleMarker at 0x7f9c28676630>,\n",
       " <folium.vector_layers.CircleMarker at 0x7f9c286768d0>,\n",
       " <folium.vector_layers.CircleMarker at 0x7f9c28676d30>,\n",
       " <folium.vector_layers.CircleMarker at 0x7f9c28676f28>,\n",
       " <folium.vector_layers.CircleMarker at 0x7f9c28676fd0>,\n",
       " <folium.vector_layers.CircleMarker at 0x7f9c28676dd8>,\n",
       " <folium.vector_layers.CircleMarker at 0x7f9c286b9080>,\n",
       " <folium.vector_layers.CircleMarker at 0x7f9c28664eb8>,\n",
       " <folium.vector_layers.CircleMarker at 0x7f9c286642b0>,\n",
       " <folium.vector_layers.CircleMarker at 0x7f9c286cd1d0>,\n",
       " <folium.vector_layers.CircleMarker at 0x7f9c28664b70>,\n",
       " <folium.vector_layers.CircleMarker at 0x7f9c28664128>,\n",
       " <folium.vector_layers.CircleMarker at 0x7f9c28676f98>,\n",
       " <folium.vector_layers.CircleMarker at 0x7f9c28676438>,\n",
       " <folium.vector_layers.CircleMarker at 0x7f9c286767f0>,\n",
       " <folium.vector_layers.CircleMarker at 0x7f9c286764a8>,\n",
       " <folium.vector_layers.CircleMarker at 0x7f9c28676a58>,\n",
       " <folium.vector_layers.CircleMarker at 0x7f9c28676390>,\n",
       " <folium.vector_layers.CircleMarker at 0x7f9c28676940>,\n",
       " <folium.vector_layers.CircleMarker at 0x7f9c28676eb8>,\n",
       " <folium.vector_layers.CircleMarker at 0x7f9c28676cc0>,\n",
       " <folium.vector_layers.CircleMarker at 0x7f9c2868a0b8>,\n",
       " <folium.vector_layers.CircleMarker at 0x7f9c2868a1d0>,\n",
       " <folium.vector_layers.CircleMarker at 0x7f9c2868a278>,\n",
       " <folium.vector_layers.CircleMarker at 0x7f9c2868a320>,\n",
       " <folium.vector_layers.CircleMarker at 0x7f9c2868a3c8>,\n",
       " <folium.vector_layers.CircleMarker at 0x7f9c2868a470>,\n",
       " <folium.vector_layers.CircleMarker at 0x7f9c2868a518>,\n",
       " <folium.vector_layers.CircleMarker at 0x7f9c28676ef0>,\n",
       " <folium.vector_layers.CircleMarker at 0x7f9c28676208>,\n",
       " <folium.vector_layers.CircleMarker at 0x7f9c28676048>,\n",
       " <folium.vector_layers.CircleMarker at 0x7f9c28676978>,\n",
       " <folium.vector_layers.CircleMarker at 0x7f9c286cd6a0>,\n",
       " <folium.vector_layers.CircleMarker at 0x7f9c286a5908>,\n",
       " <folium.vector_layers.CircleMarker at 0x7f9c28676748>,\n",
       " <folium.vector_layers.CircleMarker at 0x7f9c28664a90>,\n",
       " <folium.vector_layers.CircleMarker at 0x7f9c28664a20>,\n",
       " <folium.vector_layers.CircleMarker at 0x7f9c28664d68>,\n",
       " <folium.vector_layers.CircleMarker at 0x7f9c2868a208>,\n",
       " <folium.vector_layers.CircleMarker at 0x7f9c2868a048>,\n",
       " <folium.vector_layers.CircleMarker at 0x7f9c2868a128>,\n",
       " <folium.vector_layers.CircleMarker at 0x7f9c2868a5c0>,\n",
       " <folium.vector_layers.CircleMarker at 0x7f9c2868a4a8>,\n",
       " <folium.vector_layers.CircleMarker at 0x7f9c2868a6d8>,\n",
       " <folium.vector_layers.CircleMarker at 0x7f9c2868a710>,\n",
       " <folium.vector_layers.CircleMarker at 0x7f9c2868a7b8>,\n",
       " <folium.vector_layers.CircleMarker at 0x7f9c2868a860>,\n",
       " <folium.vector_layers.CircleMarker at 0x7f9c2868a908>,\n",
       " <folium.vector_layers.CircleMarker at 0x7f9c2868a9b0>,\n",
       " <folium.vector_layers.CircleMarker at 0x7f9c2868aa58>,\n",
       " <folium.vector_layers.CircleMarker at 0x7f9c286b98d0>,\n",
       " <folium.vector_layers.CircleMarker at 0x7f9c286649e8>,\n",
       " <folium.vector_layers.CircleMarker at 0x7f9c28676400>,\n",
       " <folium.vector_layers.CircleMarker at 0x7f9c286762b0>,\n",
       " <folium.vector_layers.CircleMarker at 0x7f9c28676e10>,\n",
       " <folium.vector_layers.CircleMarker at 0x7f9c28676b38>,\n",
       " <folium.vector_layers.CircleMarker at 0x7f9c2868a978>,\n",
       " <folium.vector_layers.CircleMarker at 0x7f9c2868a828>,\n",
       " <folium.vector_layers.CircleMarker at 0x7f9c2868a630>,\n",
       " <folium.vector_layers.CircleMarker at 0x7f9c2868a6a0>,\n",
       " <folium.vector_layers.CircleMarker at 0x7f9c2868a390>,\n",
       " <folium.vector_layers.CircleMarker at 0x7f9c2868a160>,\n",
       " <folium.vector_layers.CircleMarker at 0x7f9c2868a2b0>,\n",
       " <folium.vector_layers.CircleMarker at 0x7f9c2868ab00>,\n",
       " <folium.vector_layers.CircleMarker at 0x7f9c2868a9e8>,\n",
       " <folium.vector_layers.CircleMarker at 0x7f9c2868ac18>,\n",
       " <folium.vector_layers.CircleMarker at 0x7f9c2868ac50>,\n",
       " <folium.vector_layers.CircleMarker at 0x7f9c2868acf8>,\n",
       " <folium.vector_layers.CircleMarker at 0x7f9c2868ada0>,\n",
       " <folium.vector_layers.CircleMarker at 0x7f9c2868ae48>,\n",
       " <folium.vector_layers.CircleMarker at 0x7f9c2868aef0>,\n",
       " <folium.vector_layers.CircleMarker at 0x7f9c286cdc50>,\n",
       " <folium.vector_layers.CircleMarker at 0x7f9c286766a0>,\n",
       " <folium.vector_layers.CircleMarker at 0x7f9c28664438>,\n",
       " <folium.vector_layers.CircleMarker at 0x7f9c28676be0>,\n",
       " <folium.vector_layers.CircleMarker at 0x7f9c2868af98>,\n",
       " <folium.vector_layers.CircleMarker at 0x7f9c2868ae10>,\n",
       " <folium.vector_layers.CircleMarker at 0x7f9c2868acc0>,\n",
       " <folium.vector_layers.CircleMarker at 0x7f9c2868a358>,\n",
       " <folium.vector_layers.CircleMarker at 0x7f9c2868ab38>,\n",
       " <folium.vector_layers.CircleMarker at 0x7f9c2868a240>,\n",
       " <folium.vector_layers.CircleMarker at 0x7f9c2868a438>,\n",
       " <folium.vector_layers.CircleMarker at 0x7f9c2868a748>,\n",
       " <folium.vector_layers.CircleMarker at 0x7f9c2868a780>,\n",
       " <folium.vector_layers.CircleMarker at 0x7f9c2868aa20>,\n",
       " <folium.vector_layers.CircleMarker at 0x7f9c2868a898>,\n",
       " <folium.vector_layers.CircleMarker at 0x7f9c2868aac8>,\n",
       " <folium.vector_layers.CircleMarker at 0x7f9c2861f080>,\n",
       " <folium.vector_layers.CircleMarker at 0x7f9c2861f160>,\n",
       " <folium.vector_layers.CircleMarker at 0x7f9c2861f278>,\n",
       " <folium.vector_layers.CircleMarker at 0x7f9c2861f320>,\n",
       " <folium.vector_layers.CircleMarker at 0x7f9c2861f3c8>,\n",
       " <folium.vector_layers.CircleMarker at 0x7f9c2861f470>,\n",
       " <folium.vector_layers.CircleMarker at 0x7f9c2868ad30>,\n",
       " <folium.vector_layers.CircleMarker at 0x7f9c2868a668>,\n",
       " <folium.vector_layers.CircleMarker at 0x7f9c2868a5f8>,\n",
       " <folium.vector_layers.CircleMarker at 0x7f9c2868ab70>,\n",
       " <folium.vector_layers.CircleMarker at 0x7f9c28664cc0>,\n",
       " <folium.vector_layers.CircleMarker at 0x7f9c2868a4e0>,\n",
       " <folium.vector_layers.CircleMarker at 0x7f9c2868ad68>,\n",
       " <folium.vector_layers.CircleMarker at 0x7f9c2868aba8>,\n",
       " <folium.vector_layers.CircleMarker at 0x7f9c286769e8>,\n",
       " <folium.vector_layers.CircleMarker at 0x7f9c28676f60>,\n",
       " <folium.vector_layers.CircleMarker at 0x7f9c2861f2b0>,\n",
       " <folium.vector_layers.CircleMarker at 0x7f9c2861f2e8>,\n",
       " <folium.vector_layers.CircleMarker at 0x7f9c2861f0b8>,\n",
       " <folium.vector_layers.CircleMarker at 0x7f9c2861f518>,\n",
       " <folium.vector_layers.CircleMarker at 0x7f9c2861f400>,\n",
       " <folium.vector_layers.CircleMarker at 0x7f9c2861f630>,\n",
       " <folium.vector_layers.CircleMarker at 0x7f9c2861f668>,\n",
       " <folium.vector_layers.CircleMarker at 0x7f9c2861f710>,\n",
       " <folium.vector_layers.CircleMarker at 0x7f9c2861f7b8>,\n",
       " <folium.vector_layers.CircleMarker at 0x7f9c2861f860>,\n",
       " <folium.vector_layers.CircleMarker at 0x7f9c2861f908>,\n",
       " <folium.vector_layers.CircleMarker at 0x7f9c2861f9b0>,\n",
       " <folium.vector_layers.CircleMarker at 0x7f9c286644e0>,\n",
       " <folium.vector_layers.CircleMarker at 0x7f9c28676080>,\n",
       " <folium.vector_layers.CircleMarker at 0x7f9c2868ae80>,\n",
       " <folium.vector_layers.CircleMarker at 0x7f9c2868aa90>,\n",
       " <folium.vector_layers.CircleMarker at 0x7f9c2868a7f0>,\n",
       " <folium.vector_layers.CircleMarker at 0x7f9c2868a550>,\n",
       " <folium.vector_layers.CircleMarker at 0x7f9c2868a080>,\n",
       " <folium.vector_layers.CircleMarker at 0x7f9c2861f6a0>,\n",
       " <folium.vector_layers.CircleMarker at 0x7f9c2861f5c0>,\n",
       " <folium.vector_layers.CircleMarker at 0x7f9c2861f240>,\n",
       " <folium.vector_layers.CircleMarker at 0x7f9c2861f208>,\n",
       " <folium.vector_layers.CircleMarker at 0x7f9c2861f358>,\n",
       " <folium.vector_layers.CircleMarker at 0x7f9c2861f390>,\n",
       " <folium.vector_layers.CircleMarker at 0x7f9c2861fa58>,\n",
       " <folium.vector_layers.CircleMarker at 0x7f9c2861f940>,\n",
       " <folium.vector_layers.CircleMarker at 0x7f9c2861fb70>,\n",
       " <folium.vector_layers.CircleMarker at 0x7f9c2861fba8>,\n",
       " <folium.vector_layers.CircleMarker at 0x7f9c2861fc50>,\n",
       " <folium.vector_layers.CircleMarker at 0x7f9c2861fcf8>,\n",
       " <folium.vector_layers.CircleMarker at 0x7f9c2861fda0>,\n",
       " <folium.vector_layers.CircleMarker at 0x7f9c2861fe48>,\n",
       " <folium.vector_layers.CircleMarker at 0x7f9c2861fef0>,\n",
       " <folium.vector_layers.CircleMarker at 0x7f9c28676518>,\n",
       " <folium.vector_layers.CircleMarker at 0x7f9c2868abe0>,\n",
       " <folium.vector_layers.CircleMarker at 0x7f9c2868a8d0>,\n",
       " <folium.vector_layers.CircleMarker at 0x7f9c2868a198>,\n",
       " <folium.vector_layers.CircleMarker at 0x7f9c2861fe10>,\n",
       " <folium.vector_layers.CircleMarker at 0x7f9c2861fcc0>,\n",
       " <folium.vector_layers.CircleMarker at 0x7f9c2861fac8>,\n",
       " <folium.vector_layers.CircleMarker at 0x7f9c2861fb38>,\n",
       " <folium.vector_layers.CircleMarker at 0x7f9c2861f550>,\n",
       " <folium.vector_layers.CircleMarker at 0x7f9c2861f1d0>,\n",
       " <folium.vector_layers.CircleMarker at 0x7f9c2861f828>,\n",
       " <folium.vector_layers.CircleMarker at 0x7f9c2861f588>,\n",
       " <folium.vector_layers.CircleMarker at 0x7f9c2861f748>,\n",
       " <folium.vector_layers.CircleMarker at 0x7f9c2861ff98>,\n",
       " <folium.vector_layers.CircleMarker at 0x7f9c2861f978>,\n",
       " <folium.vector_layers.CircleMarker at 0x7f9c2861fe80>,\n",
       " <folium.vector_layers.CircleMarker at 0x7f9c286340f0>,\n",
       " <folium.vector_layers.CircleMarker at 0x7f9c286341d0>,\n",
       " <folium.vector_layers.CircleMarker at 0x7f9c28634278>,\n",
       " <folium.vector_layers.CircleMarker at 0x7f9c28634320>,\n",
       " <folium.vector_layers.CircleMarker at 0x7f9c286343c8>,\n",
       " <folium.vector_layers.CircleMarker at 0x7f9c28634470>,\n",
       " <folium.vector_layers.CircleMarker at 0x7f9c2861fd30>,\n",
       " <folium.vector_layers.CircleMarker at 0x7f9c2861f5f8>,\n",
       " <folium.vector_layers.CircleMarker at 0x7f9c2861f8d0>,\n",
       " <folium.vector_layers.CircleMarker at 0x7f9c2861f198>,\n",
       " <folium.vector_layers.CircleMarker at 0x7f9c2861fa90>,\n",
       " <folium.vector_layers.CircleMarker at 0x7f9c2861fc88>,\n",
       " <folium.vector_layers.CircleMarker at 0x7f9c28676780>,\n",
       " <folium.vector_layers.CircleMarker at 0x7f9c2861f898>,\n",
       " <folium.vector_layers.CircleMarker at 0x7f9c2868afd0>,\n",
       " <folium.vector_layers.CircleMarker at 0x7f9c2868aeb8>,\n",
       " <folium.vector_layers.CircleMarker at 0x7f9c286342b0>,\n",
       " <folium.vector_layers.CircleMarker at 0x7f9c286342e8>,\n",
       " <folium.vector_layers.CircleMarker at 0x7f9c28634160>,\n",
       " <folium.vector_layers.CircleMarker at 0x7f9c28634518>,\n",
       " <folium.vector_layers.CircleMarker at 0x7f9c28634400>,\n",
       " <folium.vector_layers.CircleMarker at 0x7f9c28634630>,\n",
       " <folium.vector_layers.CircleMarker at 0x7f9c28634668>,\n",
       " <folium.vector_layers.CircleMarker at 0x7f9c28634710>,\n",
       " <folium.vector_layers.CircleMarker at 0x7f9c286347b8>,\n",
       " <folium.vector_layers.CircleMarker at 0x7f9c28634860>,\n",
       " <folium.vector_layers.CircleMarker at 0x7f9c28634908>,\n",
       " <folium.vector_layers.CircleMarker at 0x7f9c286349b0>,\n",
       " <folium.vector_layers.CircleMarker at 0x7f9c2868a400>,\n",
       " <folium.vector_layers.CircleMarker at 0x7f9c2861feb8>,\n",
       " <folium.vector_layers.CircleMarker at 0x7f9c2861f048>,\n",
       " <folium.vector_layers.CircleMarker at 0x7f9c2861fb00>,\n",
       " <folium.vector_layers.CircleMarker at 0x7f9c2861f4a8>,\n",
       " <folium.vector_layers.CircleMarker at 0x7f9c2861f7f0>,\n",
       " <folium.vector_layers.CircleMarker at 0x7f9c2861f6d8>,\n",
       " <folium.vector_layers.CircleMarker at 0x7f9c286348d0>,\n",
       " <folium.vector_layers.CircleMarker at 0x7f9c28634780>,\n",
       " <folium.vector_layers.CircleMarker at 0x7f9c28634588>,\n",
       " <folium.vector_layers.CircleMarker at 0x7f9c286345f8>,\n",
       " <folium.vector_layers.CircleMarker at 0x7f9c28634128>,\n",
       " <folium.vector_layers.CircleMarker at 0x7f9c28634240>,\n",
       " <folium.vector_layers.CircleMarker at 0x7f9c286344e0>,\n",
       " <folium.vector_layers.CircleMarker at 0x7f9c28634ac8>,\n",
       " <folium.vector_layers.CircleMarker at 0x7f9c28634b00>,\n",
       " <folium.vector_layers.CircleMarker at 0x7f9c286349e8>,\n",
       " <folium.vector_layers.CircleMarker at 0x7f9c28634be0>,\n",
       " <folium.vector_layers.CircleMarker at 0x7f9c28634c88>,\n",
       " <folium.vector_layers.CircleMarker at 0x7f9c28634d30>,\n",
       " <folium.vector_layers.CircleMarker at 0x7f9c28634dd8>,\n",
       " <folium.vector_layers.CircleMarker at 0x7f9c2861f9e8>,\n",
       " <folium.vector_layers.CircleMarker at 0x7f9c2861f128>,\n",
       " <folium.vector_layers.CircleMarker at 0x7f9c2868ac88>,\n",
       " <folium.vector_layers.CircleMarker at 0x7f9c2861fbe0>,\n",
       " <folium.vector_layers.CircleMarker at 0x7f9c2861ff28>,\n",
       " <folium.vector_layers.CircleMarker at 0x7f9c28634da0>,\n",
       " <folium.vector_layers.CircleMarker at 0x7f9c28634c50>,\n",
       " <folium.vector_layers.CircleMarker at 0x7f9c28634898>,\n",
       " <folium.vector_layers.CircleMarker at 0x7f9c28634940>,\n",
       " <folium.vector_layers.CircleMarker at 0x7f9c286340b8>,\n",
       " <folium.vector_layers.CircleMarker at 0x7f9c28634198>,\n",
       " <folium.vector_layers.CircleMarker at 0x7f9c286346a0>,\n",
       " <folium.vector_layers.CircleMarker at 0x7f9c286346d8>,\n",
       " <folium.vector_layers.CircleMarker at 0x7f9c28634978>,\n",
       " <folium.vector_layers.CircleMarker at 0x7f9c28634d68>,\n",
       " <folium.vector_layers.CircleMarker at 0x7f9c28634f98>,\n",
       " <folium.vector_layers.CircleMarker at 0x7f9c28634fd0>,\n",
       " <folium.vector_layers.CircleMarker at 0x7f9c28634f28>,\n",
       " <folium.vector_layers.CircleMarker at 0x7f9c286480f0>,\n",
       " <folium.vector_layers.CircleMarker at 0x7f9c28648208>,\n",
       " <folium.vector_layers.CircleMarker at 0x7f9c286482b0>,\n",
       " <folium.vector_layers.CircleMarker at 0x7f9c28648358>,\n",
       " <folium.vector_layers.CircleMarker at 0x7f9c28634e80>,\n",
       " <folium.vector_layers.CircleMarker at 0x7f9c28634f60>,\n",
       " <folium.vector_layers.CircleMarker at 0x7f9c28634438>,\n",
       " <folium.vector_layers.CircleMarker at 0x7f9c28634550>,\n",
       " <folium.vector_layers.CircleMarker at 0x7f9c28634a90>,\n",
       " <folium.vector_layers.CircleMarker at 0x7f9c2868a940>,\n",
       " <folium.vector_layers.CircleMarker at 0x7f9c28634ba8>,\n",
       " <folium.vector_layers.CircleMarker at 0x7f9c28634cf8>,\n",
       " <folium.vector_layers.CircleMarker at 0x7f9c28634b38>,\n",
       " <folium.vector_layers.CircleMarker at 0x7f9c2861f438>,\n",
       " <folium.vector_layers.CircleMarker at 0x7f9c2861f0f0>,\n",
       " <folium.vector_layers.CircleMarker at 0x7f9c28648128>,\n",
       " <folium.vector_layers.CircleMarker at 0x7f9c28648160>,\n",
       " <folium.vector_layers.CircleMarker at 0x7f9c28648400>,\n",
       " <folium.vector_layers.CircleMarker at 0x7f9c286482e8>,\n",
       " <folium.vector_layers.CircleMarker at 0x7f9c28648518>,\n",
       " <folium.vector_layers.CircleMarker at 0x7f9c28648550>,\n",
       " <folium.vector_layers.CircleMarker at 0x7f9c286485f8>,\n",
       " <folium.vector_layers.CircleMarker at 0x7f9c286486a0>,\n",
       " <folium.vector_layers.CircleMarker at 0x7f9c28648748>,\n",
       " <folium.vector_layers.CircleMarker at 0x7f9c286487f0>,\n",
       " <folium.vector_layers.CircleMarker at 0x7f9c28648898>,\n",
       " <folium.vector_layers.CircleMarker at 0x7f9c28634828>,\n",
       " <folium.vector_layers.CircleMarker at 0x7f9c28634390>,\n",
       " <folium.vector_layers.CircleMarker at 0x7f9c286347f0>,\n",
       " <folium.vector_layers.CircleMarker at 0x7f9c28634eb8>,\n",
       " <folium.vector_layers.CircleMarker at 0x7f9c28634e10>,\n",
       " <folium.vector_layers.CircleMarker at 0x7f9c286344a8>,\n",
       " <folium.vector_layers.CircleMarker at 0x7f9c2861fd68>,\n",
       " <folium.vector_layers.CircleMarker at 0x7f9c286b9b00>,\n",
       " <folium.vector_layers.CircleMarker at 0x7f9c28676b70>,\n",
       " <folium.vector_layers.CircleMarker at 0x7f9c2861f780>,\n",
       " <folium.vector_layers.CircleMarker at 0x7f9c2868af28>,\n",
       " <folium.vector_layers.CircleMarker at 0x7f9c2868a588>,\n",
       " <folium.vector_layers.CircleMarker at 0x7f9c286486d8>,\n",
       " <folium.vector_layers.CircleMarker at 0x7f9c28648710>,\n",
       " <folium.vector_layers.CircleMarker at 0x7f9c286485c0>,\n",
       " <folium.vector_layers.CircleMarker at 0x7f9c286480b8>,\n",
       " <folium.vector_layers.CircleMarker at 0x7f9c28648438>,\n",
       " <folium.vector_layers.CircleMarker at 0x7f9c28648278>,\n",
       " <folium.vector_layers.CircleMarker at 0x7f9c28648780>,\n",
       " <folium.vector_layers.CircleMarker at 0x7f9c28648978>,\n",
       " <folium.vector_layers.CircleMarker at 0x7f9c28648a20>,\n",
       " <folium.vector_layers.CircleMarker at 0x7f9c28648080>,\n",
       " <folium.vector_layers.CircleMarker at 0x7f9c28676c88>,\n",
       " <folium.vector_layers.CircleMarker at 0x7f9c2868a2e8>,\n",
       " <folium.vector_layers.CircleMarker at 0x7f9c2861fa20>,\n",
       " <folium.vector_layers.CircleMarker at 0x7f9c2861fc18>,\n",
       " <folium.vector_layers.CircleMarker at 0x7f9c28634cc0>,\n",
       " <folium.vector_layers.CircleMarker at 0x7f9c28634a20>,\n",
       " <folium.vector_layers.CircleMarker at 0x7f9c28634208>,\n",
       " <folium.vector_layers.CircleMarker at 0x7f9c28634ef0>,\n",
       " <folium.vector_layers.CircleMarker at 0x7f9c28648940>,\n",
       " <folium.vector_layers.CircleMarker at 0x7f9c286489b0>,\n",
       " <folium.vector_layers.CircleMarker at 0x7f9c28648048>,\n",
       " <folium.vector_layers.CircleMarker at 0x7f9c28648588>,\n",
       " <folium.vector_layers.CircleMarker at 0x7f9c28648668>,\n",
       " <folium.vector_layers.CircleMarker at 0x7f9c28648b00>,\n",
       " <folium.vector_layers.CircleMarker at 0x7f9c28648a58>,\n",
       " <folium.vector_layers.CircleMarker at 0x7f9c28648c18>,\n",
       " <folium.vector_layers.CircleMarker at 0x7f9c28648c50>,\n",
       " <folium.vector_layers.CircleMarker at 0x7f9c28648cf8>,\n",
       " <folium.vector_layers.CircleMarker at 0x7f9c28648da0>,\n",
       " <folium.vector_layers.CircleMarker at 0x7f9c28648e48>,\n",
       " <folium.vector_layers.CircleMarker at 0x7f9c28648ef0>,\n",
       " <folium.vector_layers.CircleMarker at 0x7f9c28648f98>,\n",
       " <folium.vector_layers.CircleMarker at 0x7f9c28634358>,\n",
       " <folium.vector_layers.CircleMarker at 0x7f9c2861ffd0>,\n",
       " <folium.vector_layers.CircleMarker at 0x7f9c2861f4e0>,\n",
       " <folium.vector_layers.CircleMarker at 0x7f9c2868a0f0>,\n",
       " <folium.vector_layers.CircleMarker at 0x7f9c28634c18>,\n",
       " <folium.vector_layers.CircleMarker at 0x7f9c28648dd8>,\n",
       " <folium.vector_layers.CircleMarker at 0x7f9c28648e10>,\n",
       " <folium.vector_layers.CircleMarker at 0x7f9c28648cc0>,\n",
       " <folium.vector_layers.CircleMarker at 0x7f9c286487b8>,\n",
       " <folium.vector_layers.CircleMarker at 0x7f9c28648b38>,\n",
       " <folium.vector_layers.CircleMarker at 0x7f9c286484e0>,\n",
       " <folium.vector_layers.CircleMarker at 0x7f9c28648198>,\n",
       " <folium.vector_layers.CircleMarker at 0x7f9c286489e8>,\n",
       " <folium.vector_layers.CircleMarker at 0x7f9c28648f28>,\n",
       " <folium.vector_layers.CircleMarker at 0x7f9c286488d0>,\n",
       " <folium.vector_layers.CircleMarker at 0x7f9c2865c0b8>,\n",
       " <folium.vector_layers.CircleMarker at 0x7f9c2865c1d0>,\n",
       " <folium.vector_layers.CircleMarker at 0x7f9c2865c278>,\n",
       " <folium.vector_layers.CircleMarker at 0x7f9c2865c320>,\n",
       " <folium.vector_layers.CircleMarker at 0x7f9c2865c3c8>,\n",
       " <folium.vector_layers.CircleMarker at 0x7f9c2865c470>,\n",
       " <folium.vector_layers.CircleMarker at 0x7f9c2865c518>,\n",
       " <folium.vector_layers.CircleMarker at 0x7f9c28648d30>,\n",
       " <folium.vector_layers.CircleMarker at 0x7f9c28648390>,\n",
       " <folium.vector_layers.CircleMarker at 0x7f9c28648860>,\n",
       " <folium.vector_layers.CircleMarker at 0x7f9c2868af60>,\n",
       " <folium.vector_layers.CircleMarker at 0x7f9c2861ff60>,\n",
       " <folium.vector_layers.CircleMarker at 0x7f9c28648ba8>,\n",
       " <folium.vector_layers.CircleMarker at 0x7f9c28648eb8>,\n",
       " <folium.vector_layers.CircleMarker at 0x7f9c28648f60>,\n",
       " <folium.vector_layers.CircleMarker at 0x7f9c28634080>,\n",
       " <folium.vector_layers.CircleMarker at 0x7f9c28634748>,\n",
       " <folium.vector_layers.CircleMarker at 0x7f9c2865c208>,\n",
       " <folium.vector_layers.CircleMarker at 0x7f9c2865c080>,\n",
       " <folium.vector_layers.CircleMarker at 0x7f9c2865c160>,\n",
       " <folium.vector_layers.CircleMarker at 0x7f9c2865c5c0>,\n",
       " <folium.vector_layers.CircleMarker at 0x7f9c2865c4a8>,\n",
       " <folium.vector_layers.CircleMarker at 0x7f9c2865c6d8>,\n",
       " <folium.vector_layers.CircleMarker at 0x7f9c2865c710>,\n",
       " <folium.vector_layers.CircleMarker at 0x7f9c2865c7b8>,\n",
       " <folium.vector_layers.CircleMarker at 0x7f9c2865c860>,\n",
       " <folium.vector_layers.CircleMarker at 0x7f9c2865c908>,\n",
       " <folium.vector_layers.CircleMarker at 0x7f9c2865c9b0>,\n",
       " <folium.vector_layers.CircleMarker at 0x7f9c2865ca58>,\n",
       " <folium.vector_layers.CircleMarker at 0x7f9c286345c0>,\n",
       " <folium.vector_layers.CircleMarker at 0x7f9c2868add8>,\n",
       " <folium.vector_layers.CircleMarker at 0x7f9c286483c8>,\n",
       " <folium.vector_layers.CircleMarker at 0x7f9c286481d0>,\n",
       " <folium.vector_layers.CircleMarker at 0x7f9c28648320>,\n",
       " <folium.vector_layers.CircleMarker at 0x7f9c28648240>,\n",
       " <folium.vector_layers.CircleMarker at 0x7f9c2865c978>,\n",
       " <folium.vector_layers.CircleMarker at 0x7f9c2865c828>,\n",
       " <folium.vector_layers.CircleMarker at 0x7f9c2865c630>,\n",
       " <folium.vector_layers.CircleMarker at 0x7f9c2865c6a0>,\n",
       " <folium.vector_layers.CircleMarker at 0x7f9c2865c390>,\n",
       " <folium.vector_layers.CircleMarker at 0x7f9c2865c198>,\n",
       " <folium.vector_layers.CircleMarker at 0x7f9c2865c2b0>,\n",
       " <folium.vector_layers.CircleMarker at 0x7f9c2865cb00>,\n",
       " <folium.vector_layers.CircleMarker at 0x7f9c2865c9e8>,\n",
       " <folium.vector_layers.CircleMarker at 0x7f9c2865cc18>,\n",
       " <folium.vector_layers.CircleMarker at 0x7f9c2865cc50>,\n",
       " <folium.vector_layers.CircleMarker at 0x7f9c2865ccf8>,\n",
       " <folium.vector_layers.CircleMarker at 0x7f9c2865cda0>,\n",
       " <folium.vector_layers.CircleMarker at 0x7f9c2865ce48>,\n",
       " <folium.vector_layers.CircleMarker at 0x7f9c2865cef0>,\n",
       " <folium.vector_layers.CircleMarker at 0x7f9c2865cf98>,\n",
       " <folium.vector_layers.CircleMarker at 0x7f9c2861fdd8>,\n",
       " <folium.vector_layers.CircleMarker at 0x7f9c28676e80>,\n",
       " <folium.vector_layers.CircleMarker at 0x7f9c28648630>,\n",
       " <folium.vector_layers.CircleMarker at 0x7f9c28648b70>,\n",
       " <folium.vector_layers.CircleMarker at 0x7f9c2865cc88>,\n",
       " <folium.vector_layers.CircleMarker at 0x7f9c2865cba8>,\n",
       " <folium.vector_layers.CircleMarker at 0x7f9c2865c4e0>,\n",
       " <folium.vector_layers.CircleMarker at 0x7f9c2865c2e8>,\n",
       " <folium.vector_layers.CircleMarker at 0x7f9c2865c940>,\n",
       " <folium.vector_layers.CircleMarker at 0x7f9c2865c0f0>,\n",
       " <folium.vector_layers.CircleMarker at 0x7f9c2865c5f8>,\n",
       " <folium.vector_layers.CircleMarker at 0x7f9c2865c7f0>,\n",
       " <folium.vector_layers.CircleMarker at 0x7f9c2865c8d0>,\n",
       " <folium.vector_layers.CircleMarker at 0x7f9c2865cf28>,\n",
       " <folium.vector_layers.CircleMarker at 0x7f9c2865ca20>,\n",
       " <folium.vector_layers.CircleMarker at 0x7f9c285f2080>,\n",
       " <folium.vector_layers.CircleMarker at 0x7f9c285f2160>,\n",
       " <folium.vector_layers.CircleMarker at 0x7f9c285f2278>,\n",
       " <folium.vector_layers.CircleMarker at 0x7f9c285f2320>,\n",
       " <folium.vector_layers.CircleMarker at 0x7f9c285f23c8>,\n",
       " <folium.vector_layers.CircleMarker at 0x7f9c285f2470>,\n",
       " <folium.vector_layers.CircleMarker at 0x7f9c285f2518>,\n",
       " <folium.vector_layers.CircleMarker at 0x7f9c286484a8>,\n",
       " <folium.vector_layers.CircleMarker at 0x7f9c28648a90>,\n",
       " <folium.vector_layers.CircleMarker at 0x7f9c2865cfd0>,\n",
       " <folium.vector_layers.CircleMarker at 0x7f9c2865c438>,\n",
       " <folium.vector_layers.CircleMarker at 0x7f9c2865cb38>,\n",
       " <folium.vector_layers.CircleMarker at 0x7f9c2865c128>,\n",
       " <folium.vector_layers.CircleMarker at 0x7f9c2865ce10>,\n",
       " <folium.vector_layers.CircleMarker at 0x7f9c2865cb70>,\n",
       " <folium.vector_layers.CircleMarker at 0x7f9c2865cd30>,\n",
       " <folium.vector_layers.CircleMarker at 0x7f9c2865cd68>,\n",
       " <folium.vector_layers.CircleMarker at 0x7f9c285f2358>,\n",
       " <folium.vector_layers.CircleMarker at 0x7f9c285f2390>,\n",
       " <folium.vector_layers.CircleMarker at 0x7f9c285f21d0>]"
      ]
     },
     "execution_count": 33,
     "metadata": {},
     "output_type": "execute_result"
    }
   ],
   "source": [
    "#cleaned_trips[0:4]\n",
    "list(trip_markers)"
   ]
  },
  {
   "cell_type": "code",
   "execution_count": 27,
   "metadata": {},
   "outputs": [
    {
     "data": {
      "text/plain": [
       "[[40.64499, -73.78115],\n",
       " [40.766931, -73.982098],\n",
       " [40.77773, -73.951902],\n",
       " [40.795678, -73.971049]]"
      ]
     },
     "execution_count": 27,
     "metadata": {},
     "output_type": "execute_result"
    }
   ],
   "source": [
    "trip_markers and len(trip_markers) # 1000\n",
    "\n",
    "list(map(lambda marker: marker.location, trip_markers[0:4]))\n",
    "# [[40.64499, -73.78115],\n",
    "#  [40.766931, -73.982098],\n",
    "#  [40.77773, -73.951902],\n",
    "#  [40.795678, -73.971049]]"
   ]
  },
  {
   "cell_type": "markdown",
   "metadata": {},
   "source": [
    "Ok, now that we have a function that creates locations, and a function that creates markers, it is time to write a function to plot a map. \n",
    "\n",
    "Write a function called `map_from` that, provided the first argument of a list location and second argument an integer representing the `zoom_start`, returns a `folium` map the corresponding location and `zoom_start` attributes.\n",
    "\n",
    "> Hint: The following is how to write a map with folium:\n",
    "> ```python \n",
    "    folium.Map(location=location, zoom_start=zoom_amount)\n",
    "> ```"
   ]
  },
  {
   "cell_type": "code",
   "execution_count": 28,
   "metadata": {},
   "outputs": [],
   "source": [
    "def map_from(location, zoom_amount):\n",
    "    return folium.Map(location=location, zoom_start=zoom_amount)"
   ]
  },
  {
   "cell_type": "code",
   "execution_count": 29,
   "metadata": {},
   "outputs": [
    {
     "data": {
      "text/plain": [
       "15"
      ]
     },
     "execution_count": 29,
     "metadata": {},
     "output_type": "execute_result"
    }
   ],
   "source": [
    "times_square_map = map_from([40.7589, -73.9851], 15)\n",
    "times_square_map and times_square_map.location # [40.7589, -73.9851]\n",
    "times_square_map and times_square_map.zoom_start # 15"
   ]
  },
  {
   "cell_type": "code",
   "execution_count": 30,
   "metadata": {
    "scrolled": true
   },
   "outputs": [
    {
     "data": {
      "text/html": [
       "<div style=\"width:100%;\"><div style=\"position:relative;width:100%;height:0;padding-bottom:60%;\"><iframe src=\"data:text/html;charset=utf-8;base64,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\" style=\"position:absolute;width:100%;height:100%;left:0;top:0;border:none !important;\" allowfullscreen webkitallowfullscreen mozallowfullscreen></iframe></div></div>"
      ],
      "text/plain": [
       "<folium.folium.Map at 0x7f9c285f2a58>"
      ]
     },
     "execution_count": 30,
     "metadata": {},
     "output_type": "execute_result"
    }
   ],
   "source": [
    "times_square_marker and times_square_marker.add_to(times_square_map)\n",
    "times_square_map"
   ]
  },
  {
   "cell_type": "markdown",
   "metadata": {},
   "source": [
    "Now that we have a marker and a map, now let's write a function that adds a lot of markers to a map.  This function should add each marker in the list to the map object then return the updated map object."
   ]
  },
  {
   "cell_type": "code",
   "execution_count": 31,
   "metadata": {},
   "outputs": [],
   "source": [
    "manhattan_map = map_from([40.7589, -73.9851], 13)"
   ]
  },
  {
   "cell_type": "code",
   "execution_count": null,
   "metadata": {},
   "outputs": [],
   "source": [
    "def add_markers(markers, map_obj):\n",
    "    pass"
   ]
  },
  {
   "cell_type": "code",
   "execution_count": null,
   "metadata": {
    "scrolled": false
   },
   "outputs": [],
   "source": [
    "map_with_markers = add_markers(trip_markers, manhattan_map)"
   ]
  },
  {
   "cell_type": "code",
   "execution_count": null,
   "metadata": {},
   "outputs": [],
   "source": [
    "map_with_markers"
   ]
  },
  {
   "cell_type": "markdown",
   "metadata": {},
   "source": [
    "### Using Nearest Neighbors"
   ]
  },
  {
   "cell_type": "markdown",
   "metadata": {},
   "source": [
    "Ok, let's write a function that given a latitude and longitude will predict the distance for us.  We'll do this by first finding the nearest trips given a latitude and longitude. "
   ]
  },
  {
   "cell_type": "markdown",
   "metadata": {},
   "source": [
    "Here we once again apply the nearest neighbors formula. As a first step, write a function named `distance_location` that calculates the distance in pickup location between two trips."
   ]
  },
  {
   "cell_type": "code",
   "execution_count": null,
   "metadata": {},
   "outputs": [],
   "source": [
    "import math\n",
    "\n",
    "def distance_location(selected_trip, neighbor_trip):\n",
    "    pass"
   ]
  },
  {
   "cell_type": "code",
   "execution_count": null,
   "metadata": {},
   "outputs": [],
   "source": [
    "first_trip = {'pickup_latitude': 40.64499, 'pickup_longitude': -73.78115, 'trip_distance': 18.38}\n",
    "second_trip = {'pickup_latitude': 40.766931, 'pickup_longitude': -73.982098, 'trip_distance': 1.3}\n",
    "distance_first_and_second = distance_location(first_trip, second_trip)\n",
    "\n",
    "distance_first_and_second and round(distance_first_and_second, 3) # 0.235"
   ]
  },
  {
   "cell_type": "markdown",
   "metadata": {},
   "source": [
    "Ok, next write a function called `distance_between_neighbors` that adds a new key-value pair, called `distance_from_selected`, that calculates the distance of the `neighbor_trip` from the `selected_trip`."
   ]
  },
  {
   "cell_type": "code",
   "execution_count": null,
   "metadata": {},
   "outputs": [],
   "source": [
    "def distance_between_neighbors(selected_trip, neighbor_trip):\n",
    "    pass"
   ]
  },
  {
   "cell_type": "code",
   "execution_count": null,
   "metadata": {},
   "outputs": [],
   "source": [
    "distance_between_neighbors(first_trip, second_trip)\n",
    "\n",
    "# {'distance_from_selected': 0.23505256047318146,\n",
    "#  'pickup_latitude': 40.766931,\n",
    "#  'pickup_longitude': -73.982098,\n",
    "#  'trip_distance': 1.3}"
   ]
  },
  {
   "cell_type": "markdown",
   "metadata": {},
   "source": [
    "Ok, now our `neighbor_trip` has another attribute called `distance_from_selected`, that indicates the distance from the `neighbor_trip`'s pickup location from the `selected_trip`."
   ]
  },
  {
   "cell_type": "markdown",
   "metadata": {},
   "source": [
    "> ** Understand the data:** Our dictionary now has a few attributes, two of which say distance.  Let's make sure we understand the difference. \n",
    "> * **`distance_from_selected`:** This is our calculation of the distance of the neighbor's pickup location from the selected trip.\n",
    "> * **`trip_distance`:** This is the attribute we were provided initially.  It tells us the length of the neighbor's taxi trip from pickup to drop-off.  "
   ]
  },
  {
   "cell_type": "markdown",
   "metadata": {},
   "source": [
    "Next, write a function called `distance_all` that provided a list of neighbors, returns each of those neighbors with their respective `distance_from_selected` numbers."
   ]
  },
  {
   "cell_type": "code",
   "execution_count": null,
   "metadata": {},
   "outputs": [],
   "source": [
    "def distance_all(selected_individual, neighbors):\n",
    "    pass"
   ]
  },
  {
   "cell_type": "code",
   "execution_count": null,
   "metadata": {},
   "outputs": [],
   "source": [
    "cleaned_trips and distance_all(first_trip, cleaned_trips[0:4])"
   ]
  },
  {
   "cell_type": "markdown",
   "metadata": {},
   "source": [
    "Now write the nearest neighbors formula to calculate the distance of the `selected_trip` from all of the `cleaned_trips` in our dataset.  If no number is provided, it should return the top 3 neighbors."
   ]
  },
  {
   "cell_type": "code",
   "execution_count": null,
   "metadata": {},
   "outputs": [],
   "source": [
    "def nearest_neighbors(selected_trip, trips, number = 3):\n",
    "    pass"
   ]
  },
  {
   "cell_type": "code",
   "execution_count": null,
   "metadata": {},
   "outputs": [],
   "source": [
    "new_trip = {'pickup_latitude': 40.64499,\n",
    "'pickup_longitude': -73.78115,\n",
    "'trip_distance': 18.38}\n",
    "\n",
    "nearest_three_neighbors = nearest_neighbors(new_trip, cleaned_trips or [], number = 3)\n",
    "nearest_three_neighbors\n",
    "# [{'distance_from_selected': 0.0004569288784918792,\n",
    "#   'pickup_latitude': 40.64483,\n",
    "#   'pickup_longitude': -73.781578,\n",
    "#   'trip_distance': 7.78},\n",
    "#  {'distance_from_selected': 0.0011292165425673159,\n",
    "#   'pickup_latitude': 40.644657,\n",
    "#   'pickup_longitude': -73.782229,\n",
    "#   'trip_distance': 12.7},\n",
    "#  {'distance_from_selected': 0.0042359798158141185,\n",
    "#   'pickup_latitude': 40.648509,\n",
    "#   'pickup_longitude': -73.783508,\n",
    "#   'trip_distance': 17.3}]"
   ]
  },
  {
   "cell_type": "markdown",
   "metadata": {},
   "source": [
    "Ok great! Now that we can provide a new trip location, and find the distances of the three nearest trips, we can take  calculate an estimate of the trip distance for that new trip location.  \n",
    "\n",
    "We do so simply by calculating the average of it's nearest neighbors."
   ]
  },
  {
   "cell_type": "code",
   "execution_count": null,
   "metadata": {},
   "outputs": [],
   "source": [
    "import statistics\n",
    "def mean_distance(neighbors):\n",
    "    nearest_distances = list(map(lambda neighbor: neighbor['trip_distance'], neighbors))\n",
    "    return round(statistics.mean(nearest_distances), 3)\n",
    "\n",
    "nearest_three_neighbors = nearest_neighbors(new_trip, cleaned_trips or [], number = 3)\n",
    "distance_estimate_of_selected_trip = mean_distance(nearest_three_neighbors) # 12.593\n",
    "distance_estimate_of_selected_trip"
   ]
  },
  {
   "cell_type": "markdown",
   "metadata": {},
   "source": [
    "### Choosing the correct number of neighbors"
   ]
  },
  {
   "cell_type": "markdown",
   "metadata": {},
   "source": [
    "Now, as we know from the last lesson, one tricky element is to determine how many neighbors to choose, our $k$ value,  before calculating the average.  We want to choose our value of $k$ such that it properly matches actual data, and so that it applies to new data.  There are fancy formulas to ensure that we **train** our algorithm so that our formula is optimized for all data, but here let's see different $k$ values manually.  This is the gist of choosing our $k$ value:\n",
    "\n",
    "* If we choose a $k$ value too low, our formula will be too heavily influenced by a single neighbor, whereas if our $k$ value is too high, we will be choosing so many neighbors that our nearest neighbors formula will not be adjust enough according to locations.\n",
    "\n",
    "Ok, let's experiment with this."
   ]
  },
  {
   "cell_type": "markdown",
   "metadata": {},
   "source": [
    "First, let's choose a midtown location, to see what the trip distance would be.  A Google search reveals the coordinates of 51st and 7th avenue to be the following."
   ]
  },
  {
   "cell_type": "code",
   "execution_count": null,
   "metadata": {},
   "outputs": [],
   "source": [
    "midtown_trip = dict(pickup_latitude=40.761710, pickup_longitude=-73.982760)"
   ]
  },
  {
   "cell_type": "code",
   "execution_count": null,
   "metadata": {},
   "outputs": [],
   "source": [
    "seven_closest = nearest_neighbors(midtown_trip, cleaned_trips, number = 7)\n",
    "seven_closest\n",
    "# [{'trip_distance': 0.58,\n",
    "#   'pickup_latitude': 40.761372,\n",
    "#   'pickup_longitude': -73.982602,\n",
    "#   'distance_from_selected': 0.00037310588309379025},\n",
    "#  {'trip_distance': 0.8,\n",
    "#   'pickup_latitude': 40.762444,\n",
    "#   'pickup_longitude': -73.98244,\n",
    "#   'distance_from_selected': 0.00080072217404248},\n",
    "#  {'trip_distance': 1.4,\n",
    "#   'pickup_latitude': 40.762767,\n",
    "#   'pickup_longitude': -73.982293,\n",
    "#   'distance_from_selected': 0.0011555682584735844},\n",
    "#  {'trip_distance': 8.3,\n",
    "#   'pickup_latitude': 40.762868,\n",
    "#   'pickup_longitude': -73.983233,\n",
    "#   'distance_from_selected': 0.0012508768924205918},\n",
    "#  {'trip_distance': 1.26,\n",
    "#   'pickup_latitude': 40.760057,\n",
    "#   'pickup_longitude': -73.983502,\n",
    "#   'distance_from_selected': 0.0018118976240381972},\n",
    "#  {'trip_distance': 0.0,\n",
    "#   'pickup_latitude': 40.760644,\n",
    "#   'pickup_longitude': -73.984531,\n",
    "#   'distance_from_selected': 0.002067074502774709},\n",
    "#  {'trip_distance': 1.72,\n",
    "#   'pickup_latitude': 40.762107,\n",
    "#   'pickup_longitude': -73.98479,\n",
    "#   'distance_from_selected': 0.0020684557041472677}]"
   ]
  },
  {
   "cell_type": "markdown",
   "metadata": {},
   "source": [
    "Looking at the `distance_from_selected` it appears that our our trips are still fairly close to our selected trip.  Notice that most of the data is within a distance of .002 away, so going to the top 7 nearest neighbors didn't seem to give us neighbors too far from each other, which is a good sign.\n",
    "\n",
    "Still, it's hard to know what distance in latitude and longitude really look like, so let's map the data. "
   ]
  },
  {
   "cell_type": "code",
   "execution_count": null,
   "metadata": {},
   "outputs": [],
   "source": [
    "midtown_location = location(midtown_trip) # [40.76171, -73.98276]\n",
    "midtown_map = map_from(midtown_location, 16)\n",
    "closest_markers = markers_from_trips(seven_closest)\n",
    "\n",
    "add_markers(closest_markers, midtown_map)"
   ]
  },
  {
   "cell_type": "markdown",
   "metadata": {},
   "source": [
    "Ok.  These locations stay fairly close to our estimated location of 51st street and 7th Avenue.  So they could be a good estimate of a trip distance."
   ]
  },
  {
   "cell_type": "code",
   "execution_count": null,
   "metadata": {},
   "outputs": [],
   "source": [
    "mean_distance(seven_closest) # 2.009"
   ]
  },
  {
   "cell_type": "markdown",
   "metadata": {},
   "source": [
    "Ok, now let's try a different location"
   ]
  },
  {
   "cell_type": "code",
   "execution_count": null,
   "metadata": {},
   "outputs": [],
   "source": [
    "charging_bull_closest = nearest_neighbors({'pickup_latitude': 40.7049, 'pickup_longitude': -74.0137}, cleaned_trips, number = 12)"
   ]
  },
  {
   "cell_type": "code",
   "execution_count": null,
   "metadata": {
    "scrolled": true
   },
   "outputs": [],
   "source": [
    "mean_distance(charging_bull_closest) # 3.145"
   ]
  },
  {
   "cell_type": "markdown",
   "metadata": {},
   "source": [
    "Ok, so there appears to be a significant difference between choosing a location near Times Square versus choosing a location at Wall Street."
   ]
  },
  {
   "cell_type": "markdown",
   "metadata": {},
   "source": [
    "### Summary"
   ]
  },
  {
   "cell_type": "markdown",
   "metadata": {},
   "source": [
    "In this lab, we used the nearest neighbors function to predict the length of a taxi ride.  To do so, we selected a location, then found a number of taxi rides closest to that location, and finally took the average trip lengths of the nearest taxi rides to find an estimate of the new ride's trip length.  You can see that even with just a little bit of math and programming we can begin to make meaningful predictions with data."
   ]
  }
 ],
 "metadata": {
  "kernelspec": {
   "display_name": "Python 3",
   "language": "python",
   "name": "python3"
  },
  "language_info": {
   "codemirror_mode": {
    "name": "ipython",
    "version": 3
   },
   "file_extension": ".py",
   "mimetype": "text/x-python",
   "name": "python",
   "nbconvert_exporter": "python",
   "pygments_lexer": "ipython3",
   "version": "3.6.4"
  }
 },
 "nbformat": 4,
 "nbformat_minor": 2
}
